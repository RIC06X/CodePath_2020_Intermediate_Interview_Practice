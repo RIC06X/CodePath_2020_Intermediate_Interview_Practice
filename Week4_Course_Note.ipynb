{
 "metadata": {
  "language_info": {
   "codemirror_mode": {
    "name": "ipython",
    "version": 3
   },
   "file_extension": ".py",
   "mimetype": "text/x-python",
   "name": "python",
   "nbconvert_exporter": "python",
   "pygments_lexer": "ipython3",
   "version": "3.8.4-final"
  },
  "orig_nbformat": 2,
  "kernelspec": {
   "name": "python_defaultSpec_1597718911894",
   "display_name": "Python 3.8.4 64-bit"
  }
 },
 "nbformat": 4,
 "nbformat_minor": 2,
 "cells": [
  {
   "cell_type": "markdown",
   "metadata": {},
   "source": [
    "# Problem 1 - Add Two Numbers\n",
    "\n",
    "You are given two non-empty linked lists representing two non-negative integers. The digits are stored in reverse order and each of their nodes contain a single digit. Add the two numbers and return it as a linked list.\n",
    "\n",
    "You may assume the two numbers do not contain any leading zero, except the number 0 itself.\n",
    "\n",
    "Example:\n",
    "```\n",
    "Input: 2 -> 4 -> 3,  5 -> 6 -> 4\n",
    "Output: 7 -> 0 -> 8\n",
    "```\n",
    "Explanation: 342 + 465 = 807"
   ]
  },
  {
   "cell_type": "markdown",
   "metadata": {},
   "source": [
    "## Understand\n",
    "\n",
    "- is there any space/ time constaints?\n",
    "\n",
    "## Match\n",
    "\n",
    "- need to consider carry \n",
    "\n",
    "## Plan\n",
    "- loop through  lists\n",
    "    - sum up each digits with carry, save carry if > 10, clear carry if have no carray\n",
    "- Append the rest of the list, and carry"
   ]
  },
  {
   "cell_type": "code",
   "execution_count": 16,
   "metadata": {},
   "outputs": [],
   "source": [
    "class ListNode:\n",
    "    def __init__(self, val):\n",
    "        self.val = val\n",
    "        self.next = None\n",
    "    def insert(self, n):\n",
    "        n.next = self\n",
    "        return n \n",
    "    def __repr__(self):\n",
    "        return f\"{self.val} -> {self.next}\"\n",
    "\n",
    "def addTwoNumbers(l1: ListNode, l2:ListNode):\n",
    "    sentinel = ListNode(-1)\n",
    "    curr = sentinel\n",
    "    carry = 0\n",
    "\n",
    "    while l1 or l2:\n",
    "        if not l1:\n",
    "            v1 = 0\n",
    "        else:\n",
    "            v1 = l1.val\n",
    "            l1 = l1.next\n",
    "        if not l2:\n",
    "            v2 = 0\n",
    "        else:\n",
    "            v2 = l2.val\n",
    "            l2 = l2.next\n",
    "        sum = v1 + v2 + carry\n",
    "        val = sum % 10 \n",
    "        carry = sum //10\n",
    "        curr.next = ListNode(val)\n",
    "        curr = curr.next\n",
    "    if carry:\n",
    "        curr.next = ListNode(1)\n",
    "    \n",
    "    return sentinel.next\n",
    "    \n"
   ]
  },
  {
   "cell_type": "code",
   "execution_count": 14,
   "metadata": {
    "tags": []
   },
   "outputs": [
    {
     "output_type": "stream",
     "name": "stdout",
     "text": "9 -> 9 -> 9 -> None\nNone\n9 -> 9 -> 9 -> None\n"
    }
   ],
   "source": [
    "l1 = None\n",
    "# l1 = l1.insert(ListNode(9))\n",
    "# l1 = l1.insert(ListNode(9))\n",
    "# l1 = l1.insert(ListNode(9))\n",
    "# l1 = l1.insert(ListNode(9))\n",
    "# l1 = l1.insert(ListNode(9))\n",
    "\n",
    "l2 = ListNode(9)\n",
    "l2 = l2.insert(ListNode(9))\n",
    "l2 = l2.insert(ListNode(9))\n",
    "print(l2)\n",
    "print(l1)\n",
    "\n",
    "print(addTwoNumbers(l2,l1))"
   ]
  },
  {
   "cell_type": "markdown",
   "metadata": {},
   "source": [
    "# Problem 2 - Remove Nth Node from End of List\n",
    "Given a linked list, remove the n-th node from the end of list and return its head.\n",
    "\n",
    "Example:\n",
    "\n",
    "Input: 1->2->3->4->5, n = 2\n",
    "Output: 1->2->3->5\n",
    "\n",
    "Explanation: We remove the second node from the end, the node with value 4\n"
   ]
  },
  {
   "cell_type": "markdown",
   "metadata": {},
   "source": [
    "## Understand\n",
    "test case1\n",
    "null 0\n",
    "test case2 \n",
    "1->2->3 n = 4\n",
    "test case3\n",
    "1->2->3 n = -1\n",
    "test case4 \n",
    "1->2->3 n = 2\n",
    "\n",
    "## Match \n",
    "Multipass\n",
    "dummy head"
   ]
  },
  {
   "cell_type": "code",
   "execution_count": 15,
   "metadata": {},
   "outputs": [],
   "source": [
    "## Plan\n",
    "# first loop throght list to get the length\n",
    "\n",
    "# cal the correct index to delete\n",
    "\n",
    "# handle edge cases:\n",
    "#     negative value\n",
    "#     exceed max length \n",
    "\n",
    "# use curr, prev to track \n",
    "#     remove -> prev.next = curr.next\n",
    "\n",
    "def removeEndNode(n: ListNode, k: int) -> ListNode:\n",
    "    count = 0\n",
    "    curr = n\n",
    "    while curr:\n",
    "        curr = curr.next\n",
    "        count += 1\n",
    "    if k > count or k < 0:\n",
    "        return n\n",
    "    target = count - k \n",
    "    sentinel = ListNode(-1)\n",
    "    sentinel.next = n\n",
    "    curr, prev, index  = n, sentinel, 0\n",
    "    while index!=target:\n",
    "        prev = curr\n",
    "        curr = curr.next\n",
    "        index += 1\n",
    "    prev.next = curr.next\n",
    "    curr.next = None\n",
    "\n",
    "    return sentinel.next\n"
   ]
  },
  {
   "cell_type": "code",
   "execution_count": 23,
   "metadata": {
    "tags": []
   },
   "outputs": [
    {
     "output_type": "stream",
     "name": "stdout",
     "text": "1 -> 2 -> 3 -> None\n1 -> 2 -> 3 -> None\n"
    }
   ],
   "source": [
    "# Review\n",
    "l2 = ListNode(3)\n",
    "l2 = l2.insert(ListNode(2))\n",
    "l2 = l2.insert(ListNode(1))\n",
    "print(l2)\n",
    "\n",
    "print(removeEndNode(l2,4))\n"
   ]
  },
  {
   "cell_type": "code",
   "execution_count": null,
   "metadata": {},
   "outputs": [],
   "source": [
    "## Evalutation\n",
    "T : O(n)\n",
    "S : O(1)"
   ]
  },
  {
   "cell_type": "markdown",
   "metadata": {},
   "source": [
    "# Problem 3 - Merge Two Sorted Lists\n",
    "Merge two sorted linked lists and return it as a new list. The new list should be made by splicing together the nodes of the first two lists.\n",
    "\n",
    "Example:\n",
    "\n",
    "Input: 1->2->4, 1->3->4\n",
    "Output: 1->1->2->3->4->4\n"
   ]
  },
  {
   "cell_type": "markdown",
   "metadata": {},
   "source": [
    "## Understand\n",
    "\n",
    "edge cases:\n",
    "case1\n",
    "two empty list\n",
    "case2 \n",
    "one empty, the other normal\n",
    "case3\n",
    "uneven length lists\n",
    "\n",
    "## Match\n",
    "1. recurssion\n",
    "2. dummy-head with two pointer "
   ]
  },
  {
   "cell_type": "code",
   "execution_count": 27,
   "metadata": {},
   "outputs": [],
   "source": [
    "## Plan \n",
    "#1. revurssion\n",
    "# if l1 is empty:\n",
    "#     return l2\n",
    "# if l2 is empty:\n",
    "#     return l1\n",
    "# if l1.val < l2.val:\n",
    "#     l1.next = merge(l1.next, l2)\n",
    "#     return l1\n",
    "# else:\n",
    "#     l2.next = merger(l1, l2.next) \n",
    "#     return l2\n",
    "\n",
    "def merge(l1: ListNode, l2: ListNode) -> ListNode:\n",
    "    if not l1:\n",
    "        return l2\n",
    "    if not l2:\n",
    "        return l1\n",
    "    if l1.val < l2.val:\n",
    "        l1.next = merge(l1.next, l2)\n",
    "        return l1\n",
    "    else:\n",
    "        l2.next = merge(l1, l2.next)\n",
    "        return l2"
   ]
  },
  {
   "cell_type": "code",
   "execution_count": 32,
   "metadata": {
    "tags": []
   },
   "outputs": [
    {
     "output_type": "stream",
     "name": "stdout",
     "text": "1 -> 2 -> 3 -> None\n3 -> 4 -> None\n1 -> 2 -> 3 -> 3 -> 4 -> None\n"
    }
   ],
   "source": [
    "## Review\n",
    "l2 = ListNode(3)\n",
    "l2 = l2.insert(ListNode(2))\n",
    "l2 = l2.insert(ListNode(1))\n",
    "\n",
    "l1 = ListNode(4)\n",
    "l1 = l1.insert(ListNode(3))\n",
    "# l1 = l1.insert(ListNode(1))\n",
    "print(l2)\n",
    "print(l1)\n",
    "print(merge(l1,l2))"
   ]
  },
  {
   "cell_type": "code",
   "execution_count": null,
   "metadata": {},
   "outputs": [],
   "source": [
    "## Evalutation\n",
    "T : O(n)\n",
    "S : O(1)"
   ]
  },
  {
   "cell_type": "markdown",
   "metadata": {},
   "source": [
    "# Problem 4 (Challenge!) - Remove Duplicates\n",
    "Given a linked list, delete all nodes that have duplicate numbers, leaving only distinct numbers from the original list. Can you do it without taking up extra memory?\n",
    "\n",
    "Examples:\n",
    "\n",
    "Input: 1->2->3->3->4->4->5\n",
    "Output: 1->2->5\n",
    "\n",
    "Input: 1->1->1->2->3\n",
    "Output: 2->3"
   ]
  },
  {
   "cell_type": "markdown",
   "metadata": {},
   "source": [
    "## Understand\n",
    "\n",
    "- remove all duplicates\n",
    "- no extra memory\n",
    "- is the linked list pre-sorted?\n",
    "\n",
    "## Match\n",
    "\n",
    "first mergesort\n",
    "then removeDuplicates\n",
    "    two pointer\n",
    "    dummy head"
   ]
  },
  {
   "cell_type": "code",
   "execution_count": 45,
   "metadata": {},
   "outputs": [],
   "source": [
    "def findMiddle(head: ListNode) -> ListNode:\n",
    "    if not (head and head.next):\n",
    "        return head\n",
    "    slow, fast = head, head.next\n",
    "    while fast and fast.next:\n",
    "        fast = fast.next.next\n",
    "        slow = slow.next\n",
    "    return slow\n",
    "\n",
    "def mergeSort(head: ListNode) -> ListNode:\n",
    "    if not (head and head.next):\n",
    "        return head\n",
    "    middle = findMiddle(head)\n",
    "    left, right = head, middle.next\n",
    "    middle.next = None\n",
    "    return merge(mergeSort(left), mergeSort(right))\n",
    "\n",
    "def removeDuplicates(head: ListNode) -> ListNode:\n",
    "    if not head or not head.next:\n",
    "        return head\n",
    "    sentinel = ListNode(-1)\n",
    "    sentinel.next = head\n",
    "    prev, curr = sentinel, head\n",
    "    while curr and curr.next:\n",
    "        if curr.val == curr.next.val:\n",
    "            while curr.val == curr.next.val:\n",
    "                curr = curr.next\n",
    "            prev.next = curr.next\n",
    "        else:\n",
    "            prev = curr\n",
    "        curr = curr.next\n",
    "    return sentinel.next\n",
    "\n",
    "def SortRemoveDuplicates(head: ListNode) -> ListNode:\n",
    "    return removeDuplicates(mergeSort(head))"
   ]
  },
  {
   "cell_type": "code",
   "execution_count": 47,
   "metadata": {
    "tags": []
   },
   "outputs": [
    {
     "output_type": "stream",
     "name": "stdout",
     "text": "5 -> 4 -> 31 -> 21 -> 132 -> 4 -> 2 -> 3 -> None\n2 -> 3 -> 5 -> 21 -> 31 -> 132 -> None\n"
    }
   ],
   "source": [
    "## Review\n",
    "l2 = ListNode(3)\n",
    "l2 = l2.insert(ListNode(2))\n",
    "l2 = l2.insert(ListNode(4))\n",
    "l2 = l2.insert(ListNode(132))\n",
    "l2 = l2.insert(ListNode(21))\n",
    "l2 = l2.insert(ListNode(31))\n",
    "l2 = l2.insert(ListNode(4))\n",
    "l2 = l2.insert(ListNode(5))\n",
    "print(l2)\n",
    "\n",
    "# print(mergeSort(l2))\n",
    "print(SortRemoveDuplicates(l2))"
   ]
  },
  {
   "cell_type": "markdown",
   "metadata": {},
   "source": [
    "# Session 2 Debug Code\n",
    "\n",
    "## For each problem, your goal is to:\n",
    "\n",
    "- Make sure the solution code compiles.\n",
    "- Fix the solution code so that all the test cases provided pass.\n",
    "- Determine if there are any missing test cases that the solution code would not pass, and add those test cases and fix the code as necessary.\n",
    "\n",
    "## Challenge problems:\n",
    "\n",
    "### For each question, follow the link to the provided CodeBunk document. When you first open the document:\n",
    "\n",
    "- Open a new repl.it document to copy and paste the buggy code and test cases\n",
    "- Read through the question statement to understand what you're solving for\n",
    "- Read through the test cases to even better understand the problem\n",
    "- Read through the solution code to understand the approach. Make sure you and your team can discuss how the problem is being solved at a high level.\n",
    "- Run to code to see which test cases pass or fail.\n",
    "- If there are any compile errors, use the console log to figure out what needs to be fixed.\n",
    "- Fix the solution code until all test cases pass."
   ]
  },
  {
   "cell_type": "code",
   "execution_count": 1,
   "metadata": {
    "tags": []
   },
   "outputs": [
    {
     "output_type": "stream",
     "name": "stdout",
     "text": "True\n\nTrue\n\n"
    }
   ],
   "source": [
    "# \n",
    "# Given a node, return the length of the linked list\n",
    "#  \n",
    "# Input: 1 ; Return: 1\n",
    "# Input 1->2->3 ; Return 3\n",
    "# \n",
    "class ListNode:\n",
    "    def __init__(self, node_data):\n",
    "        self.data = node_data\n",
    "        self.next = None\n",
    "            \n",
    "def getLength(node):\n",
    "        length = 0\n",
    "        while (node != None):\n",
    "            length += 1\n",
    "            #node.next wrong\n",
    "            node = node.next\n",
    "        return length           \n",
    "            \n",
    "class ListNodeLength:\n",
    "    if __name__ == '__main__':\n",
    "        n0 = ListNode(0)\n",
    "        print(str(getLength(n0) == 1) + '\\n')\n",
    "\n",
    "        n1 = ListNode(1)\n",
    "        n2 = ListNode(2)\n",
    "        n1.next = n2\n",
    "        print(str(getLength(n1) == 2) + '\\n')"
   ]
  },
  {
   "cell_type": "code",
   "execution_count": 12,
   "metadata": {
    "tags": []
   },
   "outputs": [
    {
     "output_type": "stream",
     "name": "stdout",
     "text": "Test cases 1 passed: True\ntest case 2 passed: True\ntest case 3 passed: True\ntest case 4 passed: True\n"
    }
   ],
   "source": [
    "#\n",
    "# Given a singly linked list, determine if it is a palindrome.\n",
    "# \n",
    "# Example 1:\n",
    "# Input: 1->2\n",
    "# Output: false\n",
    "# \n",
    "# Example 2:\n",
    "# Input: 1->2->2->1\n",
    "# Output: true\n",
    "\n",
    "class ListNode:\n",
    "    def __init__(self, node_data):\n",
    "        self.data = node_data\n",
    "        self.next = None\n",
    "            \n",
    "def isPalindrome(node):\n",
    "    #123\n",
    "    fullLength = getLength(node)\n",
    "\n",
    "    if fullLength == 1:\n",
    "        return True\n",
    "\n",
    "    firstHalf = [fullLength / 2] #Array to copy, but not integer len = 1\n",
    "    currentNode = 0\n",
    "    while (currentNode < (fullLength // 2)):\n",
    "        firstHalf[currentNode] = node.data  # cannot go to that node; copy first half data to 'firsthalf' array\n",
    "        node = node.next    #move to second node 2\n",
    "        currentNode += 1    # crnode = 1\n",
    "\n",
    "    node = node.next    # move to the third  \n",
    "\n",
    "    while (node and currentNode > 0):\n",
    "        if (node.data != firstHalf[currentNode-1]): #changed here to deduce line29's +1\n",
    "            return False\n",
    "        node = node.next\n",
    "        currentNode -= 1\n",
    "\n",
    "    if (currentNode != 0):\n",
    "        return False\n",
    "\n",
    "    return True\n",
    "\n",
    "def getLength(node):\n",
    "    length = 0;\n",
    "    while (node != None):\n",
    "        length += 1\n",
    "        #redundent\n",
    "        if (node.next == None):\n",
    "            return length\n",
    "        node = node.next\n",
    "    return length\n",
    "            \n",
    "class Main:\n",
    "    if __name__ == '__main__':\n",
    "        n1_1 = ListNode(1)\n",
    "        print(\"Test cases 1 passed: \" + str(isPalindrome(n1_1)))\n",
    "\n",
    "        n2_1 = ListNode(1)\n",
    "        n2_2 = ListNode(2)\n",
    "        n2_1.next = n2_2\n",
    "        print(\"test case 2 passed: \" + str(not isPalindrome(n2_1)))\n",
    "\n",
    "        n3_1 = ListNode(1)\n",
    "        n3_2 = ListNode(2)\n",
    "        n3_3 = ListNode(3)\n",
    "        n3_1.next = n3_2\n",
    "        n3_2.next = n3_3\n",
    "        print(\"test case 3 passed: \" + str(not isPalindrome(n3_1)))\n",
    "\n",
    "        n4_1 = ListNode(1)\n",
    "        n4_2 = ListNode(2)\n",
    "        n4_3 = ListNode(1)\n",
    "        n4_1.next = n4_2\n",
    "        n4_2.next = n4_3\n",
    "        print(\"test case 4 passed: \" + str(isPalindrome(n4_1)))"
   ]
  },
  {
   "cell_type": "code",
   "execution_count": 15,
   "metadata": {
    "tags": []
   },
   "outputs": [
    {
     "output_type": "stream",
     "name": "stdout",
     "text": "Test cases 1 passed: True\nTest case 2 passed: True\nTest case 3 passed: True\n"
    }
   ],
   "source": [
    "#\n",
    " # Given a sorted linked list, delete all duplicates such that each element appear only once.\n",
    " # Input : 1 ; Output : 1\n",
    " # Input : 1->1 ; Output: 1\n",
    " # Input : 1->1->1->2->2 ; Output: 1->2\n",
    " # \n",
    "class ListNode:\n",
    "    def __init__(self, node_data):\n",
    "        self.data = node_data\n",
    "        self.next = None\n",
    "        \n",
    "    def equals(self, n):\n",
    "        if (self.data != n.data):\n",
    "            return False;\n",
    "        \n",
    "        if (self.next == None):\n",
    "            if (n.next != None):\n",
    "                return False\n",
    "            else:\n",
    "                return True\n",
    "        if (n.next == None):\n",
    "            if (self.next != None):\n",
    "                return False\n",
    "            else:\n",
    "                return True\n",
    "\n",
    "        return ListNode.equals(self.next, n.next)\n",
    "            \n",
    "def removeDuplicates(head):\n",
    "        if (head == None or head.next == None):\n",
    "            return head\n",
    "        #1122\n",
    "        dummy = head;\n",
    "        while dummy and dummy.next:\n",
    "            while dummy.next and (dummy.data == dummy.next.data):   #changed to make dummy.next always move foward until found one node has different value\n",
    "                dummy.next = dummy.next.next #122\n",
    "            dummy = dummy.next  #22\n",
    "        return head\n",
    "            \n",
    "class Main:\n",
    "    if __name__ == '__main__':\n",
    "        n1_1 = ListNode(1)\n",
    "        print(\"Test cases 1 passed: \" + str(removeDuplicates(n1_1).equals(n1_1)))\n",
    "        \n",
    "        n2_1a = ListNode(1)\n",
    "        n2_1b = ListNode(1)\n",
    "        n2_1a.next = n2_1b\n",
    "\n",
    "        n2_answer = ListNode(1)\n",
    "        print(\"Test case 2 passed: \" + str(removeDuplicates(n2_1a).equals(n2_answer)))\n",
    "\n",
    "        n3_1a = ListNode(1)\n",
    "        n3_1b = ListNode(1)\n",
    "        n3_2a = ListNode(2)\n",
    "        n3_2b = ListNode(2)\n",
    "        n3_2c = ListNode(2)\n",
    "        n3_1a.next = n3_1b\n",
    "        n3_1b.next = n3_2a\n",
    "        n3_2a.next = n3_2b\n",
    "        n3_2b.next = n3_2c\n",
    "\n",
    "        n3_answer1 = ListNode(1)\n",
    "        n3_answer2 = ListNode(2)\n",
    "        n3_answer1.next = n3_answer2\n",
    "\n",
    "        print(\"Test case 3 passed: \" + str(removeDuplicates(n3_1a).equals(n3_answer1)));"
   ]
  },
  {
   "cell_type": "markdown",
   "metadata": {},
   "source": [
    "# Problem 4 - Rotate List\n",
    "Given a linked list, rotate the list to the right by k places, where k is non-negative.\n",
    "\n",
    "Example:\n",
    "```\n",
    "Input: 1->2->3->4->5->NULL, k = 2\n",
    "Output: 4->5->1->2->3->NULL\n",
    "Explanation:\n",
    "rotate 1 steps to the right: 5->1->2->3->4->NULL\n",
    "rotate 2 steps to the right: 4->5->1->2->3->NULL\n",
    "```"
   ]
  },
  {
   "cell_type": "markdown",
   "metadata": {},
   "source": [
    "## UMPIRE\n",
    "\n",
    "#Understand\n",
    "\n",
    "case1: \n",
    "null\n",
    "k  = any number\n",
    "case2:\n",
    "1\n",
    "k = any number \n",
    "case 3: \n",
    "k > len(list)\n",
    "\n",
    "## Match\n",
    "dummy head; \n",
    "pre curr \n",
    "\n",
    "## Plan\n",
    "- use dummy head to point to the head of the linked list\n",
    "- use pre curr to get the last and last second, and get the length of the list(using curr and counter)\n",
    "- get length and last element \n",
    "- check if need rotate\n",
    "- get the range of the rotate list (length - mod -> 2 % 5 +1 -> end)\n",
    "- move the rotated list to the head of list\n",
    "    - set end to dummy head.next\n",
    "    - set dummy.next = rotated.list.first"
   ]
  },
  {
   "cell_type": "code",
   "execution_count": 33,
   "metadata": {},
   "outputs": [],
   "source": [
    "def rotateList(head: ListNode, k: int) -> ListNode:\n",
    "    if not head or not head.next or k == 0:\n",
    "        return head\n",
    "\n",
    "    sentinel = ListNode(-1)\n",
    "    sentinel.next = head\n",
    "    pre, curr = sentinel, head\n",
    "    last, counter = head, 1\n",
    "    # get length and last node \n",
    "    while last and last.next:\n",
    "        counter +=1\n",
    "        last = last.next\n",
    "\n",
    "    if k % counter == 0:\n",
    "        return head\n",
    "\n",
    "    start_pos = counter - k % counter +1\n",
    "    while start_pos > 1:\n",
    "        pre = curr\n",
    "        curr = curr.next\n",
    "        start_pos -= 1\n",
    "    #12345 , 3\n",
    "    #start_pos = 5 - 3 +1 = 3\n",
    "\n",
    "    pre.next = None\n",
    "    last.next = sentinel.next\n",
    "    sentinel.next = curr\n",
    "\n",
    "    return sentinel.next\n",
    "     "
   ]
  },
  {
   "cell_type": "code",
   "execution_count": 40,
   "metadata": {
    "tags": []
   },
   "outputs": [
    {
     "output_type": "stream",
     "name": "stdout",
     "text": "23 -> None\n23 -> None\n"
    }
   ],
   "source": [
    "l1 = ListNode(23)\n",
    "l1 = l1.insert(ListNode(4))\n",
    "l1 = l1.insert(ListNode(3))\n",
    "l1 = l1.insert(ListNode(2))\n",
    "l1 = l1.insert(ListNode(1))\n",
    "\n",
    "print(l1)\n",
    "\n",
    "print(rotateList(l1,0))"
   ]
  },
  {
   "cell_type": "code",
   "execution_count": null,
   "metadata": {},
   "outputs": [],
   "source": [
    "T:  O(n)\n",
    "S:  O(n)"
   ]
  },
  {
   "cell_type": "markdown",
   "metadata": {},
   "source": [
    "# Problem 5 - Reverse Nodes in k group\n",
    "Given a linked list, reverse the nodes of a linked list k at a time and return its modified list.\n",
    "\n",
    "k is a positive integer and is less than or equal to the length of the linked list. If the number of nodes is not a multiple of k then left-out nodes in the end should remain as it is.\n",
    "\n",
    "Example:\n",
    "```\n",
    "Given this linked list: 1->2->3->4->5\n",
    "\n",
    "For k = 2, you should return: 2->1->4->3->5\n",
    "\n",
    "For k = 3, you should return: 3->2->1->4->5\n",
    "```"
   ]
  },
  {
   "cell_type": "markdown",
   "metadata": {},
   "source": [
    "# UMPIRE\n",
    "## Understantd\n",
    "- k <= len(list)\n",
    "- if there is an empty list, return head\n",
    "\n",
    "## Match\n",
    "\n",
    "- dummy head\n",
    "- multi-ptr\n",
    "\n",
    "## Plan\n",
    "\n",
    "- use sentinel points to the head of the arr\n",
    "- while counter(K) >0:\n",
    "    - reverse and move to the next node ( use pre and curr )\n"
   ]
  },
  {
   "cell_type": "code",
   "execution_count": 55,
   "metadata": {},
   "outputs": [],
   "source": [
    "def reverseK(head: ListNode, k: int) -> ListNode:\n",
    "    if not head or not head.next:\n",
    "        return head\n",
    "    sentinel = ListNode(-1)\n",
    "    sentinel.next = head # sentinel.next = 1\n",
    "    prev, curr = head, head.next \n",
    "    while curr and k > 1:\n",
    "        prev.next = curr.next\n",
    "        curr.next = sentinel.next\n",
    "        sentinel.next = curr\n",
    "        curr = prev.next\n",
    "        k -= 1\n",
    "    return sentinel.next"
   ]
  },
  {
   "cell_type": "code",
   "execution_count": 60,
   "metadata": {
    "tags": []
   },
   "outputs": [
    {
     "output_type": "stream",
     "name": "stdout",
     "text": "1 -> 2 -> 3 -> 4 -> 23 -> None\n4 -> 3 -> 2 -> 1 -> 23 -> None\n"
    }
   ],
   "source": [
    "l1 = ListNode(23)\n",
    "l1 = l1.insert(ListNode(4))\n",
    "l1 = l1.insert(ListNode(3))\n",
    "l1 = l1.insert(ListNode(2))\n",
    "l1 = l1.insert(ListNode(1))\n",
    "\n",
    "print(l1)\n",
    "print(reverseK(l1,4))"
   ]
  },
  {
   "cell_type": "code",
   "execution_count": null,
   "metadata": {},
   "outputs": [],
   "source": []
  }
 ]
}