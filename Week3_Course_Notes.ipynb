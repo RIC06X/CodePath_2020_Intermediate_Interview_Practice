{
 "metadata": {
  "language_info": {
   "codemirror_mode": {
    "name": "ipython",
    "version": 3
   },
   "file_extension": ".py",
   "mimetype": "text/x-python",
   "name": "python",
   "nbconvert_exporter": "python",
   "pygments_lexer": "ipython3",
   "version": 3
  },
  "orig_nbformat": 2,
  "kernelspec": {
   "name": "python_defaultSpec_1596608283200",
   "display_name": "Python 3.7.3 64-bit"
  }
 },
 "nbformat": 4,
 "nbformat_minor": 2,
 "cells": [
  {
   "cell_type": "markdown",
   "metadata": {},
   "source": [
    "# Linked List\n",
    "\n",
    "## Understand\n",
    "\n",
    "Ask Questions\n",
    "List test cases: \n",
    "\n",
    "- Do we have time/spae constraints?\n",
    "\n",
    "\n",
    "## Match\n",
    "\n",
    "- Dummy head\n",
    "    - Merge two linked list\n",
    "    - Delete a node\n",
    "- Two pointers\n",
    "    - get more info look ahead\n",
    "- Multi-pass\n",
    "    - cache infomations\n",
    "\n",
    "## Pseducode/Plan\n"
   ]
  },
  {
   "cell_type": "markdown",
   "metadata": {},
   "source": [
    "Linked list:\n",
    "\n",
    "- pro: \n",
    "    - confines operations on one end of the data structure \n",
    "    - dealing with arbitrary yet small sizes numbers of nodes\n",
    "- con:\n",
    "    - poor support on random access\n",
    "    - not good storage data structure, for every value your store you pay extra space for the ListNode object"
   ]
  },
  {
   "cell_type": "markdown",
   "metadata": {},
   "source": [
    "Node - a position in a list that contains the value of whatever is stored at the position as well as at least one reference to another node.\n",
    "- Head — node at the beginning of the list.\n",
    "- Tail — node at the end of the list.\n",
    "- Sentinel — a dummy node, typically placed at the head or end of the list to help make operations simpler (e.g., delete) - or to indicate the termination of the list"
   ]
  },
  {
   "cell_type": "code",
   "execution_count": 9,
   "metadata": {},
   "outputs": [],
   "source": [
    "# Python Linked List\n",
    "class ListNode:\n",
    "    def __init__(self, value):\n",
    "        self.val = value\n",
    "        self.next = None\n",
    "    \n",
    "def insert(head, val):\n",
    "    node = ListNode(val)\n",
    "    node.next = self\n",
    "    return node\n",
    "\n",
    "def delete(head, val):      \n",
    "    s = ListNode(\"sentinel\") # dummy node \n",
    "    s.next = self       \n",
    "    p = s       # previous node pointer \n",
    "    c = self    # linked list itself \n",
    "    while c:\n",
    "        if c.val == val:\n",
    "            p.next = c.next\n",
    "            return s.next\n",
    "        p = c\n",
    "        c = c.next\n",
    "    return s.next\n",
    "\n",
    "def __len__(head):\n",
    "    c = self\n",
    "    l = 0\n",
    "    while c:\n",
    "        l += 1\n",
    "        c = c.next\n",
    "    return l\n",
    "\n"
   ]
  },
  {
   "cell_type": "code",
   "execution_count": null,
   "metadata": {},
   "outputs": [],
   "source": [
    "# Create a linked list\n",
    "head = ListNode(1)\n",
    "head.next = ListNode(2)\n",
    "\n",
    "# created a linked list 1->2"
   ]
  },
  {
   "cell_type": "markdown",
   "metadata": {},
   "source": [
    "# Match\n",
    "\n",
    "## Dummy head \n",
    "- a node that a lways points to the final answer or list that you want to return\n",
    "\n",
    "## Multi Pass\n",
    "- pass though the linked list for constant times to calculate or summary infomations of the linked list that will simplify your algorithm\n",
    "\n",
    "## Two Pointers\n",
    "-  fast slow pointer            O(n)\n",
    "    - to find the middle point of the array\n",
    "- reverse a singled linked list: Time O(n); Space O(1)\n",
    "\n",
    "- how the pointer iterate can be used to make calculations on the list more efficient. \n",
    "- example \n",
    "    - cycle detection\n"
   ]
  },
  {
   "cell_type": "code",
   "execution_count": 18,
   "metadata": {
    "tags": []
   },
   "outputs": [
    {
     "output_type": "stream",
     "name": "stdout",
     "text": "True\n"
    }
   ],
   "source": [
    "# Two pointer:  Cycle detection\n",
    "class Node(object):\n",
    "    def __init__(self, v):\n",
    "        self.val = v\n",
    "        self.next = None\n",
    "        \n",
    "    def insert(self, n):\n",
    "        n.next = self\n",
    "        return n\n",
    "    \n",
    "    def __repr__(self):\n",
    "        return f\"{self.val} -> {self.next}\"\n",
    "\n",
    "\n",
    "def hasCycle(head):\n",
    "    if not head or not head.next:\n",
    "        return False\n",
    "    fp = head.next\n",
    "    sp = head\n",
    "    while fp and fp.next:\n",
    "        if fp == sp:\n",
    "            return True\n",
    "        fp = fp.next.next\n",
    "        sp = sp.next\n",
    "    return False\n",
    "\n",
    "my_list = Node(7).insert(Node(5))\n",
    "my_list.next.next = my_list\n",
    "#print(my_list) cannot print since the linked list is a closed loop\n",
    "print(hasCycle(my_list))"
   ]
  },
  {
   "cell_type": "code",
   "execution_count": null,
   "metadata": {},
   "outputs": [],
   "source": [
    "# Two pointer:  Reverse a single lnked list\n",
    "cur,pre = head,None\n",
    "while cur:\n",
    "\tcur.next,pre,cur = pre,cur,cur.next\n"
   ]
  },
  {
   "cell_type": "markdown",
   "metadata": {},
   "source": [
    "```\n",
    "5->4->3->2\n",
    "cur = 5\n",
    "    cur.next = None         #take the node of the orginal list  \n",
    "    pre = 5                 #Save current node and make it become the list's node's parents(previous node) \n",
    "    cur = 4                 #get the next node for the new list\n",
    "    5->None\n",
    "cur = 4\n",
    "    cur.next = 5\n",
    "    pre = 4\n",
    "    cur = 3\n",
    "    4->5->None\n",
    "cur = 3\n",
    "    cur.next = 4\n",
    "    pre= 3\n",
    "    cur = 2\n",
    "    3->4->5->None\n",
    "cur = 2\n",
    "    cur.next = 3\n",
    "```"
   ]
  },
  {
   "cell_type": "markdown",
   "metadata": {},
   "source": [
    "# Leetcode 234 Problem 1 - Linked list Palindrome\n",
    "Given a linked list, determine if it is a palindrome. Your method would take in a linked list and return True / False for whether the list is a palindrome or not\n",
    "\n",
    "## Understand \n",
    "\n",
    "- Is the linked list here a singledly linked list?\n",
    "- is the input is a None, should the output be False\n",
    "- Is the linke list a cycled linked list?\n",
    "- if the linked list has only one node, should we consider it is a palindrome?\n",
    "\n",
    "```python\n",
    "\"\" -> False\n",
    "\"madam\" -> True\n",
    "\"a\" -> True\n",
    "\"madem\" -> False\n",
    "\"maddam\" -> True\n",
    "```\n",
    "- Is there any space/time constraints?\n",
    "\n",
    "## Match\n",
    "- two pointer? \n",
    "- multi-pass?\n",
    "- dummy-head?\n",
    "\n",
    "m->a->d->a->m\n",
    "\n",
    "- If it is a double linked list, easy-> multipass\n",
    "- can we use extra space to checkc it? -> use stack"
   ]
  },
  {
   "cell_type": "code",
   "execution_count": 68,
   "metadata": {},
   "outputs": [],
   "source": [
    "\n",
    "#Plan\n",
    "# create a stack\n",
    "# loop through the linked list\n",
    "#     push into stack\n",
    "# loop through the linked list\n",
    "#     check stack.top == currentNode\n",
    "#         - no return False\n",
    "# - return True\n",
    "class Node:\n",
    "    def __init__(self, val):\n",
    "        self.val = val\n",
    "        self.next = None\n",
    "    def __repr__(self):\n",
    "        return f\"{self.val}->{self.next}\"\n",
    "\n",
    "def isPalindrome(head : Node) -> bool:\n",
    "    if not head or not head.next:\n",
    "        return True\n",
    "    stack = []\n",
    "    temp = head\n",
    "    while temp:\n",
    "        stack.append(temp.val)\n",
    "        temp = temp.next\n",
    "    temp = head\n",
    "    while temp and len(stack)>0:\n",
    "        if temp.val != stack.pop():\n",
    "            return False\n",
    "        temp = temp.next\n",
    "    return True\n",
    "\n",
    "def isPalindrome_2ptr(head: Node) -> bool:\n",
    "        #Edge case\n",
    "        if not head or not head.next:\n",
    "            return True\n",
    "        #find the middle of the list\n",
    "            #use fast, slow pointer \n",
    "        fast, slow = head, head\n",
    "        while fast and fast.next:\n",
    "            fast, slow = fast.next.next, slow.next\n",
    "        #do not need to handle even\\odd len of list,\n",
    "            #last node of the second list points to None\n",
    "            # odd : , two list points to the same last node\n",
    "                # m -> a -> d <- a <- m\n",
    "            # even: last node of the second list points to None , two list are same\n",
    "                # m -> a -> a <- m \n",
    "        #reverse the second list\n",
    "        cur, pre = slow, None\n",
    "        while cur:\n",
    "            cur.next, pre, cur = pre, cur, cur.next\n",
    "        new_head = pre\n",
    "        # for the check loop, we use second list's node as while argument\n",
    "        while pre:\n",
    "            if pre.val != head.val:\n",
    "                return False\n",
    "            pre = pre.next\n",
    "            head = head.next\n",
    "        return True\n",
    "\n",
    "    # #compare each node, and return \n",
    "\n",
    "    # 3->4->5\n",
    "    # fast = 5\n",
    "    # slow = 4\n",
    "\n",
    "    # 3->4->5->6\n",
    "    # fast = 5\n",
    "    # slow = 4 \n",
    "    \n",
    "    # fast = None\n",
    "    # slow = 5\n"
   ]
  },
  {
   "cell_type": "code",
   "execution_count": 75,
   "metadata": {
    "tags": []
   },
   "outputs": [
    {
     "output_type": "stream",
     "name": "stdout",
     "text": "m->a->a->m->None\nTrue\nTrue\n"
    }
   ],
   "source": [
    "strin = \"maam\"\n",
    "head = Node(None)\n",
    "for i in range(len(strin)-1,-1, -1):\n",
    "    n = Node(strin[i])\n",
    "    n.next = head.next\n",
    "    head.next = n\n",
    "print(head.next)\n",
    "print(isPalindrome(head.next))\n",
    "print(isPalindrome_2ptr(head.next))"
   ]
  },
  {
   "cell_type": "markdown",
   "metadata": {},
   "source": [
    "# Problem 2 - Detect Cycle\n",
    "\n",
    "Given a linked list, determine if it has a cycle in it. For this problem, it may be helpful for you to write some pseudocode on how to build a linked list with a cycle. A linked list with a cycle may look something like:"
   ]
  },
  {
   "cell_type": "markdown",
   "metadata": {
    "tags": []
   },
   "source": [
    "## Understand\n",
    "\n",
    "- can a Cycle contains only one node?\n",
    "- is there any time/space contraints?\n",
    "- if we have a null input, should we output False?\n",
    "\n",
    "## Examples\n",
    "\n",
    "```\n",
    "3-> 4 -> 5->6 ->3(loop back to first)\n",
    "3-> 4 -> 5->6 ->4 (loop back to second)\n",
    "3->4 -> 5\n",
    "3\n",
    "None\n",
    "\n",
    "```"
   ]
  },
  {
   "cell_type": "code",
   "execution_count": 79,
   "metadata": {
    "tags": []
   },
   "outputs": [
    {
     "output_type": "execute_result",
     "data": {
      "text/plain": "False"
     },
     "metadata": {},
     "execution_count": 79
    }
   ],
   "source": [
    "class Node:\n",
    "    def __init__(self, val):\n",
    "        self.val = val\n",
    "        self.next = None\n",
    "    def insert(self,n):\n",
    "        n.next = self\n",
    "        return n\n",
    "    def __repr__(self):\n",
    "        return f\"{self.val} -> {self.next}\"\n",
    "\n",
    "ll = Node(7).insert(Node(5))\n",
    "# ll = ll.insert(Node(8))\n",
    "# ll = ll.insert(Node(3))\n",
    "#ll.next.next.next.next = ll.next\n",
    "\n",
    "def hasCycle(head):\n",
    "    if not head or not head.next:\n",
    "        return False\n",
    "    fast, slow = head.next, head\n",
    "    while fast and fast.next:\n",
    "        if fast.val == slow.val:\n",
    "            return True\n",
    "        fast = fast.next.next \n",
    "        slow = slow.next\n",
    "    return False\n",
    "hasCycle(ll)"
   ]
  },
  {
   "cell_type": "markdown",
   "metadata": {},
   "source": [
    "# LeetCode 203 Problem 3 - Remove Instances\n",
    "\n",
    "Given a linked list and a value x, remove all instances of x from the linked list"
   ]
  },
  {
   "cell_type": "code",
   "execution_count": 93,
   "metadata": {
    "tags": []
   },
   "outputs": [
    {
     "output_type": "stream",
     "name": "stdout",
     "text": "8 -> 6 -> 7 -> 4 -> None\n6 -> 7 -> 4 -> None\n"
    }
   ],
   "source": [
    "## Understand\n",
    "\n",
    "def removeDuplicates(head: Node, x):\n",
    "    dummy_head = ListNode(-1)\n",
    "    dummy_head.next = head\n",
    "    prev, curr = dummy_head, head\n",
    "    while curr:\n",
    "        if (curr.val == val):\n",
    "            prev.next = curr.next\n",
    "        else:\n",
    "            prev = curr\n",
    "        curr = curr.next\n",
    "    return dummy_head.next\n",
    "\n",
    "ll = Node(4).insert(Node(7))\n",
    "ll = ll.insert(Node(6))\n",
    "ll = ll.insert(Node(8))\n",
    "\n",
    "print(ll)\n",
    "print(removeDuplicates(ll, 8))"
   ]
  },
  {
   "cell_type": "markdown",
   "metadata": {},
   "source": [
    "# Problem 4 (Challenge!) - Partition\n",
    "Given a linked list and a value x, partition it such that all nodes less than x come before nodes greater than or equal to x.\n"
   ]
  },
  {
   "cell_type": "markdown",
   "metadata": {},
   "source": [
    "## Understand\n",
    "\n",
    "- Is there any space\\time constrains? \n",
    "    - Should we partition in place \n",
    "    - should we remain the original sequence \n",
    "- if x is not in the ll, should we output the input?\n",
    "- Is each of the Node's value unique?\n",
    "\n",
    "\n",
    "## Examples:\n",
    "\n",
    "```\n",
    "Test case 1:\n",
    "input =  2-> 4-> 5-> 6->3->2->1->99  x = 5 \n",
    "output = \n",
    "1-> 2-> 3-> 2 -> 4 -> 5 -> 6 -> 99\n",
    "\n",
    "Test case 2: \n",
    "input = 2-> 4-> 5-> 6->3->2->1->99  x = 7\n",
    "output = \n",
    "2-> 4-> 5-> 6->3->2->1->99\n",
    "\n",
    "Test case3:\n",
    "input = 3-> None    x= 3\n",
    "output = 3\n",
    "```\n",
    "\n",
    "Test case 4:\n",
    "\n",
    "76543 x =5\n",
    "\n",
    "65437\n",
    "54376\n",
    "45376\n",
    "34576\n",
    "\n",
    "\n",
    "\n",
    "## Match\n",
    "- two pointer + dummy head\n",
    "\n",
    "-------"
   ]
  },
  {
   "cell_type": "code",
   "execution_count": 118,
   "metadata": {},
   "outputs": [],
   "source": [
    "#we need to have  pointers\n",
    "#prev, curr\n",
    "# loop through the ll\n",
    "    # if we find first that node >= x, we mark its previous node as pre\n",
    "    # for the rest, if the node is < x, we insert after prev, and change prev to latest inserted node \n",
    "# return head node\n",
    "def partition(head: Node, x: int) -> ListNode:      \n",
    "    sentinel = Node(-1)\n",
    "    sentinel.next = head\n",
    "    prev = sentinel\n",
    "    curr = head\n",
    "    mark = sentinel\n",
    "    flag_first = False\n",
    "    while curr:\n",
    "        if not flag_first:\n",
    "            if curr.val >= x:\n",
    "                flag_first = True\n",
    "            else:\n",
    "                prev = curr\n",
    "                mark = curr\n",
    "                curr = curr.next\n",
    "        else:\n",
    "            if curr.val >=x:\n",
    "                prev = curr\n",
    "                curr = curr.next\n",
    "            else:\n",
    "                #insert small element after mark and replace mark pointer\n",
    "                #mark mark.next prev curr curr.next\n",
    "                prev.next = curr.next\n",
    "                temp = curr\n",
    "                curr = prev.next\n",
    "                \n",
    "                temp.next = mark.next\n",
    "                mark.next = temp\n",
    "                mark = temp\n",
    "    return sentinel.next\n",
    "\n",
    "def partition_2list(head: Node, x: int) -> Node:      \n",
    "    before = before_head = Node(0)\n",
    "    after = after_head = Node(0)\n",
    "\n",
    "    while head:\n",
    "        if head.val < x:\n",
    "            before.next = head\n",
    "            before = before.next\n",
    "        else:\n",
    "            after.next = head\n",
    "            after = after.next\n",
    "        head = head.next\n",
    "    \n",
    "    after.next = None\n",
    "    before.next = after_head.next\n",
    "\n",
    "    return before_head.next\n"
   ]
  },
  {
   "cell_type": "code",
   "execution_count": 119,
   "metadata": {
    "tags": []
   },
   "outputs": [
    {
     "output_type": "stream",
     "name": "stdout",
     "text": "8 -> 6 -> 7 -> 4 -> None\n4 -> 8 -> 6 -> 7 -> None\n8 -> 6 -> 7 -> None\n"
    }
   ],
   "source": [
    "ll = Node(4).insert(Node(7))\n",
    "ll = ll.insert(Node(6))\n",
    "ll = ll.insert(Node(8))\n",
    "\n",
    "print(ll)\n",
    "print(partition(ll, 6))\n",
    "print(partition_2list(ll,6))"
   ]
  },
  {
   "cell_type": "markdown",
   "metadata": {},
   "source": [
    "# Session2\n",
    "\n",
    "## Match and Pseudocode/Plan Practice \n",
    "\n",
    "## Problem 1 - Remove Duplicates from Sorted List\n",
    "Given a sorted linked list, delete all duplicates such that each element appear only once.\n",
    "\n",
    "Examples:\n",
    "```\n",
    "Input: 1->1->2  \n",
    "Output: 1->2  \n",
    "\n",
    "Input: 1->1->2->3->3  \n",
    "Output: 1->2->3  \n",
    "```"
   ]
  },
  {
   "cell_type": "code",
   "execution_count": null,
   "metadata": {},
   "outputs": [],
   "source": []
  }
 ]
}