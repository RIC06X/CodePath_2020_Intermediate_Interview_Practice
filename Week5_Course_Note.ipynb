{
 "metadata": {
  "language_info": {
   "codemirror_mode": {
    "name": "ipython",
    "version": 3
   },
   "file_extension": ".py",
   "mimetype": "text/x-python",
   "name": "python",
   "nbconvert_exporter": "python",
   "pygments_lexer": "ipython3",
   "version": "3.8.4-final"
  },
  "orig_nbformat": 2,
  "kernelspec": {
   "name": "python_defaultSpec_1598948417510",
   "display_name": "Python 3.8.4 64-bit"
  }
 },
 "nbformat": 4,
 "nbformat_minor": 2,
 "cells": [
  {
   "cell_type": "markdown",
   "metadata": {},
   "source": [
    "# Week5 Review - Hashtable and LinkedList"
   ]
  },
  {
   "cell_type": "markdown",
   "metadata": {},
   "source": [
    "# Problem 1 - Reverse a doubly linkedlist in the group of given size\n",
    "\n",
    "Given a doubly linked list containing n nodes. The problem is to reverse every group of k nodes in the list.\n",
    "\n",
    "Example:\n",
    "\n",
    "Input: 1 <-> 2 <-> 3 <-> 4 <-> 5 <-> 6 <-> 7 <-> 8\n",
    "       k = 3\n",
    "Output: 3 <-> 2 <-> 1 <-> 6 <-> 5 <-> 4 <-> 8 <-> 7"
   ]
  },
  {
   "cell_type": "markdown",
   "metadata": {},
   "source": [
    "## Underestand\n",
    "1. May I assume the group variable k must be postive? and if k is smaller than 0, should I return the original linkedlist?\n",
    "2. May I assume the I should reverse all the elements in that group even if the actual size is smaller than declared group size?\n",
    "    Yeees\n",
    "3. How should I handle empty LL? return head\n"
   ]
  },
  {
   "cell_type": "code",
   "execution_count": null,
   "metadata": {},
   "outputs": [],
   "source": [
    "# Match/Plan\n",
    "#dummy nodes to handle edges cases\n",
    "#then use multi-ptr to track nodes and reverse order\n",
    "\n",
    "#reverseList"
   ]
  },
  {
   "cell_type": "code",
   "execution_count": 2,
   "metadata": {
    "tags": []
   },
   "outputs": [
    {
     "output_type": "stream",
     "name": "stdout",
     "text": "1 -> 2 -> 3 -> 4 -> 5 -> 6 -> 7 -> None\n       None -> 1 -> 2 -> 3 -> 4 -> 5 -> 6 -> 7\n"
    }
   ],
   "source": [
    "class ListNode:\n",
    "    def __init__(self, val):\n",
    "        self.val = val\n",
    "        self.prev = None\n",
    "        self.next = None\n",
    "    \n",
    "    def insert(self, node):\n",
    "        node.prev = self\n",
    "        self.next = node\n",
    "        return node\n",
    "    \n",
    "    def __repr__(self):\n",
    "        return  f' {self.prev} -> {self.val}'\n",
    "\n",
    "def printPrev(head: ListNode) -> ListNode:\n",
    "    print(head)\n",
    "\n",
    "def printNext(head: ListNode) -> ListNode:\n",
    "    if not head:\n",
    "        return \"None\"\n",
    "    return str(head.val) + \" -> \" + printNext(head.next)\n",
    "\n",
    "head = ListNode(1)\n",
    "tail = head.insert(ListNode(2))\n",
    "tail = tail.insert(ListNode(3))\n",
    "tail = tail.insert(ListNode(4))\n",
    "tail = tail.insert(ListNode(5))\n",
    "tail = tail.insert(ListNode(6))\n",
    "tail = tail.insert(ListNode(7))\n",
    "\n",
    "\n",
    "print(printNext(head))\n",
    "printPrev(tail)"
   ]
  },
  {
   "cell_type": "code",
   "execution_count": 54,
   "metadata": {
    "tags": []
   },
   "outputs": [],
   "source": [
    "def reverseList(head: ListNode) -> ListNode:\n",
    "    if not head or not head.next:\n",
    "        return head\n",
    "    temp = None\n",
    "    curr = head\n",
    "    pre_list = head.prev\n",
    "    while curr:\n",
    "        temp = curr.prev\n",
    "        curr.prev = curr.next\n",
    "        curr.next = temp\n",
    "        curr = curr.prev\n",
    "    #clear new_list's next\n",
    "    new_tail = head.next = None\n",
    "    #find new head\n",
    "    new_head = head\n",
    "    while new_head.prev:\n",
    "        new_head = new_head.prev\n",
    "    #fix connection between presubList with current list\n",
    "    if pre_list:\n",
    "        pre_list.next = new_head\n",
    "        new_head.prev = pre_list\n",
    "    return new_tail"
   ]
  },
  {
   "cell_type": "markdown",
   "metadata": {},
   "source": [
    "## Plan\n",
    "1. have 3 ptr, track head, tail and temp (tail.next) of subarray\n",
    "2. break tail.next and reverse head to tail\n",
    "3. reverse\n",
    "4. connect new tail with temp\n",
    "5. continue iteration until tail.next is None, return new tail\n"
   ]
  },
  {
   "cell_type": "code",
   "execution_count": 56,
   "metadata": {},
   "outputs": [],
   "source": [
    "def reverseLL_GivenSize(node: ListNode, k: int) -> ListNode:\n",
    "    if not node or not node.next:\n",
    "        return node\n",
    "    head_sub, tail_sub, counter = node, node, 1\n",
    "    while head_sub:\n",
    "        while counter < k and tail_sub.next!= None:\n",
    "            tail_sub = tail_sub.next\n",
    "            counter += 1\n",
    "        #Handle case of tail_sub.next is not None \n",
    "        \n",
    "        temp = tail_sub.next\n",
    "        tail_sub.next = None\n",
    "        #Reverse subList\n",
    "        reverseList(head_sub)\n",
    "        #Connect List\n",
    "        head_sub.next = temp\n",
    "        if temp:\n",
    "            temp.prev = head_sub\n",
    "        else:\n",
    "            # temp point to the null, new_tail is the last node, return result\n",
    "            return head_sub\n",
    "        #new iteration\n",
    "        head_sub, tail_sub, counter = temp, temp, 1"
   ]
  },
  {
   "cell_type": "code",
   "execution_count": 57,
   "metadata": {
    "tags": []
   },
   "outputs": [
    {
     "output_type": "stream",
     "name": "stdout",
     "text": "None -> 2 -> 1 -> 4 -> 3 -> 6 -> 5 -> 7\n"
    }
   ],
   "source": [
    "printPrev(reverseLL_GivenSize(head, 2))"
   ]
  },
  {
   "cell_type": "markdown",
   "metadata": {},
   "source": [
    "## Review and Evaluation\n",
    "Time: O(n)\n",
    "\n",
    "Space: O(1) in-space swape, not using additional space"
   ]
  },
  {
   "cell_type": "markdown",
   "metadata": {},
   "source": [
    "# (Optional) Problem 2 - Count triplets in a sorted doubly linked list whose sum is equal to a given value\n",
    "\n",
    "Given a sorted doubly linked list of distinct nodes (i.e. no two nodes have the same data), count triplets in the list that sum up to a given value x.\n",
    "Example:\n",
    "```\n",
    "Input: 1 <-> 2 <-> 3 <-> 4 <-> 5 <-> 6 <-> 7 <-> 8 <-> 9\n",
    "       x = 17\n",
    "Output: 2\n",
    "```\n",
    "Explanation: There are two triplets: (2, 6, 9), (4, 5, 8)\n"
   ]
  },
  {
   "cell_type": "code",
   "execution_count": null,
   "metadata": {},
   "outputs": [],
   "source": [
    "## Understand\n",
    "\n",
    "- find 3 nodes set that its sum equals to x\n",
    "- what if none satisify the requirement?\n",
    "    - return 0?\n",
    "- Space/Time complexity constraint?\n",
    "- distinct nodes: no two nodes has same data"
   ]
  },
  {
   "cell_type": "markdown",
   "metadata": {},
   "source": [
    "## Match and Plan\n",
    "\n",
    "use HashTable to reduce time complexity\n",
    "\n",
    "1. put nodes to hashtable\n",
    "\n",
    "2. use two for loop to iterate each combination, it sum matches x, counter + 1"
   ]
  },
  {
   "cell_type": "code",
   "execution_count": 3,
   "metadata": {},
   "outputs": [],
   "source": [
    "def countTriplets(node:ListNode, x : int) -> int:\n",
    "    if not node or not node.next:\n",
    "        return node\n",
    "    hash_table = dict()\n",
    "    curr = node\n",
    "    while curr:\n",
    "        hash_table[x-curr.val] = curr\n",
    "        curr = curr.next\n",
    "    ptr1, counter = node, 0\n",
    "    while ptr1:\n",
    "        ptr2 =  ptr1.next\n",
    "        while ptr2:\n",
    "            if ptr1.val + ptr2.val in hash_table:\n",
    "                if ptr1!= hash_table[ptr1.val+ptr2.val] and ptr2 != hash_table[ptr1.val+ptr2.val]:\n",
    "                    counter += 1\n",
    "            ptr2 = ptr2.next\n",
    "        ptr1 = ptr1.next\n",
    "    counter = counter/3 \n",
    "    return counter"
   ]
  },
  {
   "cell_type": "code",
   "execution_count": 4,
   "metadata": {
    "tags": []
   },
   "outputs": [
    {
     "output_type": "stream",
     "name": "stdout",
     "text": "1 -> 2 -> 3 -> 4 -> 5 -> 6 -> 7 -> 8 -> 9 -> None\n"
    }
   ],
   "source": [
    "head = ListNode(1)\n",
    "tail = head.insert(ListNode(2))\n",
    "tail = tail.insert(ListNode(3))\n",
    "tail = tail.insert(ListNode(4))\n",
    "tail = tail.insert(ListNode(5))\n",
    "tail = tail.insert(ListNode(6))\n",
    "tail = tail.insert(ListNode(7))\n",
    "tail = tail.insert(ListNode(8))\n",
    "tail = tail.insert(ListNode(9))\n",
    "print(printNext(head))"
   ]
  },
  {
   "cell_type": "code",
   "execution_count": 5,
   "metadata": {
    "tags": []
   },
   "outputs": [
    {
     "output_type": "stream",
     "name": "stdout",
     "text": "7.0\n"
    }
   ],
   "source": [
    "print(countTriplets(head, 17))"
   ]
  },
  {
   "cell_type": "code",
   "execution_count": null,
   "metadata": {},
   "outputs": [],
   "source": []
  },
  {
   "cell_type": "code",
   "execution_count": 1,
   "metadata": {},
   "outputs": [],
   "source": [
    "class ListNode:\n",
    "    def __init__(self,val):\n",
    "        self.val = val\n",
    "        self.next = None\n",
    "    def insert(self, node):\n",
    "        node.next = self\n",
    "        return node\n",
    "    def __repr__(self):\n",
    "        return f'{self.val} -> {self.next}'"
   ]
  },
  {
   "cell_type": "markdown",
   "metadata": {},
   "source": [
    "# LeetCode 1019. Next Greater Node In Linked List\n",
    "\n",
    "We are given a linked list with head as the first node.  Let's number the nodes in the list: node_1, node_2, node_3, ... etc.\n",
    "\n",
    "Each node may have a next larger value: for node_i, next_larger(node_i) is the node_j.val such that j > i, node_j.val > node_i.val, and j is the smallest possible choice.  If such a j does not exist, the next larger value is 0.\n",
    "\n",
    "Return an array of integers answer, where answer[i] = next_larger(node_{i+1}).\n",
    "\n",
    "Note that in the example inputs (not outputs) below, arrays such as [2,1,5] represent the serialization of a linked list with a head node value of 2, second node value of 1, and third node value of 5.\n",
    "\n",
    " \n",
    "```\n",
    "Example 1:\n",
    "\n",
    "Input: [2,1,5]\n",
    "Output: [5,5,0]\n",
    "Example 2:\n",
    "\n",
    "Input: [2,7,4,3,5]\n",
    "Output: [7,0,5,5,0]\n",
    "Example 3:\n",
    "\n",
    "Input: [1,7,5,1,9,2,5,1]\n",
    "Output: [7,9,9,9,0,5,0,0]\n",
    "```\n",
    "\n",
    "来源：力扣（LeetCode）\n",
    "链接：https://leetcode-cn.com/problems/next-greater-node-in-linked-list\n",
    "著作权归领扣网络所有。商业转载请联系官方授权，非商业转载请注明出处。"
   ]
  },
  {
   "cell_type": "code",
   "execution_count": 10,
   "metadata": {},
   "outputs": [],
   "source": [
    "def nextLargerNodes(head: ListNode) -> []:\n",
    "    if not head:\n",
    "        return []\n",
    "    monostack = []\n",
    "    result = []\n",
    "    counter = 0\n",
    "    curr = head \n",
    "    while curr:\n",
    "        #pop all the element that smaller than val, and output val to an array of that position.\n",
    "        while len(monostack)> 0 and curr.val > monostack[-1][0]:\n",
    "            #bug here\n",
    "            value, pos = monostack[-1]\n",
    "            monostack.pop(-1)\n",
    "            result[pos] = curr.val\n",
    "        #post-processing\n",
    "        monostack.append((curr.val, counter))\n",
    "        # put a placeholder 0 in the result array \n",
    "        result.append(0)\n",
    "        counter += 1\n",
    "        curr = curr.next\n",
    "    return result"
   ]
  },
  {
   "cell_type": "code",
   "execution_count": 16,
   "metadata": {},
   "outputs": [],
   "source": [
    "# Linkedlist to Array\n",
    "\n",
    "def nextLargerNodes_Arr(head: ListNode) -> []:\n",
    "    if not head:\n",
    "        return head\n",
    "    nums = []\n",
    "    curr = head\n",
    "    while curr:\n",
    "        nums.append(curr.val)\n",
    "        curr = curr.next\n",
    "    stack = []\n",
    "    stack_loc = []\n",
    "    res = [0]*len(nums)\n",
    "    for i in range(len(nums)):\n",
    "        while stack and nums[i]> stack[-1]:\n",
    "            res[stack_loc[-1]] = nums[i]\n",
    "            stack_loc.pop()\n",
    "            stack.pop()\n",
    "        stack.append(nums[i])\n",
    "        stack_loc.append(i)\n",
    "    return res\n"
   ]
  },
  {
   "cell_type": "code",
   "execution_count": 17,
   "metadata": {
    "tags": []
   },
   "outputs": [
    {
     "output_type": "stream",
     "name": "stdout",
     "text": "1 -> 7 -> 5 -> 1 -> 9 -> 2 -> 5 -> 1 -> None\n"
    }
   ],
   "source": [
    "l1 = ListNode(1)\n",
    "l1 = l1.insert(ListNode(5))\n",
    "l1 = l1.insert(ListNode(2))\n",
    "l1 = l1.insert(ListNode(9))\n",
    "l1 = l1.insert(ListNode(1))\n",
    "l1 = l1.insert(ListNode(5))\n",
    "l1 = l1.insert(ListNode(7))\n",
    "l1 = l1.insert(ListNode(1))\n",
    "print(l1)"
   ]
  },
  {
   "cell_type": "code",
   "execution_count": 18,
   "metadata": {
    "tags": []
   },
   "outputs": [
    {
     "output_type": "stream",
     "name": "stdout",
     "text": "[7, 9, 9, 9, 0, 5, 0, 0]\n"
    }
   ],
   "source": [
    "#print(nextLargerNodes(l1))\n",
    "print(nextLargerNodes_Arr(l1))"
   ]
  },
  {
   "cell_type": "markdown",
   "metadata": {},
   "source": [
    "## Review and Evalutation\n",
    "At most 2N times \n",
    "Time: O(N)\n",
    "Space: O(N) -> used monotone decreasing stack"
   ]
  },
  {
   "cell_type": "markdown",
   "metadata": {},
   "source": [
    "# LeetCode 23. Merge k Sorted Lists\n",
    "\n",
    "难度\n",
    "困难\n",
    "\n",
    "Given an array of linked-lists lists, each linked list is sorted in ascending order.\n",
    "\n",
    "Merge all the linked-lists into one sort linked-list and return it.\n",
    "---\n",
    "```\n",
    "Example 1:\n",
    "\n",
    "Input: lists = [[1,4,5],[1,3,4],[2,6]]\n",
    "Output: [1,1,2,3,4,4,5,6]\n",
    "Explanation: The linked-lists are:\n",
    "[\n",
    "  1->4->5,\n",
    "  1->3->4,\n",
    "  2->6\n",
    "]\n",
    "merging them into one sorted list:\n",
    "1->1->2->3->4->4->5->6\n",
    "Example 2:\n",
    "\n",
    "Input: lists = []\n",
    "Output: []\n",
    "Example 3:\n",
    "\n",
    "Input: lists = [[]]\n",
    "Output: []\n",
    " ```\n",
    "\n",
    "Constraints:\n",
    "```\n",
    "k == lists.length\n",
    "0 <= k <= 10^4\n",
    "0 <= lists[i].length <= 500\n",
    "-10^4 <= lists[i][j] <= 10^4\n",
    "lists[i] is sorted in ascending order.\n",
    "The sum of lists[i].length won't exceed 10^4.\n",
    "```"
   ]
  },
  {
   "cell_type": "code",
   "execution_count": 31,
   "metadata": {},
   "outputs": [],
   "source": [
    "#Match and Plan\n",
    "# create an empty array as result, \n",
    "# iterate thorough the lists of LL\n",
    "    # merge result with lists[i]\n",
    "# merge two list?\n",
    "def mergeList(l1: ListNode, l2: ListNode) -> ListNode:\n",
    "    if not l1:\n",
    "        return l2\n",
    "    if not l2:\n",
    "        return l1\n",
    "    if l1.val < l2.val:\n",
    "        l1.next = mergeList(l1.next, l2)\n",
    "        return l1\n",
    "    else:\n",
    "        l2.next = mergeList(l2.next, l1)\n",
    "        return l2\n",
    "\n",
    "def merge(lists: List[ListNode], left: int, right: int):\n",
    "    if left == right:\n",
    "        return lists[left]\n",
    "    if left > right:\n",
    "        return None\n",
    "    middle = left + (right-left)//2\n",
    "    l1 = merge(lists, left, middle)\n",
    "    l2 = merge(lists, middle+1, right)\n",
    "    return mergeList(l1, l2)\n",
    "\n",
    "def mergeKLists(lists: List[ListNode]) -> ListNode:\n",
    "    if len(listsOfLL) == 0:\n",
    "        return None\n",
    "    if len(listsOfLL) == 1:\n",
    "        return listsOfLL[0]\n",
    "    else:\n",
    "        return merge(lists, 0, len(lists)-1)\n",
    "\n",
    "# def mergeLists(listsOfLL: [ListNode]) -> ListNode:  \n",
    "#     #超时 doesn't work\n",
    "#     if len(listsOfLL) == 0:\n",
    "#         return None\n",
    "#     if len(listsOfLL) == 1:\n",
    "#         return listsOfLL[0]\n",
    "#     result = listsOfLL[0]\n",
    "#     for i in range(1, len(listsOfLL)):\n",
    "#         result = mergeList(result, listsOfLL[i])\n",
    "#     return result"
   ]
  },
  {
   "cell_type": "code",
   "execution_count": 36,
   "metadata": {
    "tags": []
   },
   "outputs": [
    {
     "output_type": "stream",
     "name": "stdout",
     "text": "[1 -> 4 -> 5 -> None, 1 -> 3 -> 4 -> None]\n1 -> 1 -> 3 -> 4 -> 4 -> 5 -> None\n"
    }
   ],
   "source": [
    "l1 = ListNode(5)\n",
    "l1 = l1.insert(ListNode(4))\n",
    "l1 = l1.insert(ListNode(1))\n",
    "\n",
    "l2 = ListNode(4)\n",
    "l2 = l2.insert(ListNode(3))\n",
    "l2 = l2.insert(ListNode(1))\n",
    "\n",
    "l3 = ListNode(6)\n",
    "l3 = l3.insert(ListNode(2))\n",
    "\n",
    "lists = [l1, l2]\n",
    "print(lists)\n",
    "print(mergeLists(lists))"
   ]
  },
  {
   "cell_type": "markdown",
   "metadata": {},
   "source": [
    "# 25. Reverse Nodes in k-Group\n",
    "Given a linked list, reverse the nodes of a linked list k at a time and return its modified list.\n",
    "\n",
    "k is a positive integer and is less than or equal to the length of the linked list. If the number of nodes is not a multiple of k then left-out nodes in the end should remain as it is.\n",
    "\n",
    "Example:\n",
    "```\n",
    "Given this linked list: 1->2->3->4->5\n",
    "\n",
    "For k = 2, you should return: 2->1->4->3->5\n",
    "\n",
    "For k = 3, you should return: 3->2->1->4->5\n",
    "```\n",
    "Note:\n",
    "\n",
    "Only constant extra memory is allowed.\n",
    "You may not alter the values in the list's nodes, only nodes itself may be changed.\n",
    "\n",
    "来源：力扣（LeetCode）\n",
    "链接：https://leetcode-cn.com/problems/reverse-nodes-in-k-group\n",
    "著作权归领扣网络所有。商业转载请联系官方授权，非商业转载请注明出处。\n",
    "https://leetcode-cn.com/problems/reverse-nodes-in-k-group/?utm_source=LCUS&utm_medium=ip_redirect_q_uns&utm_campaign=transfer2china\n"
   ]
  },
  {
   "cell_type": "code",
   "execution_count": null,
   "metadata": {},
   "outputs": [],
   "source": []
  },
  {
   "cell_type": "markdown",
   "metadata": {},
   "source": [
    "# 题型总结\n",
    "\n",
    "ReverseList: \n",
    "\n",
    "- single linked list reverse\n",
    "    - reverse list in sized group 连接新链和旧链\n",
    "- doubled linked list reverse\n",
    "    - reverse list in sized group 连接新链和旧链\n",
    "\n",
    "Monotone Stack:\n",
    "\n",
    "    42\n",
    "    84\n",
    "    907\n",
    "    1019\n",
    "    768\n",
    "    402\n",
    "\n"
   ]
  }
 ]
}