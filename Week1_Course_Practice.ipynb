{
 "metadata": {
  "language_info": {
   "codemirror_mode": {
    "name": "ipython",
    "version": 3
   },
   "file_extension": ".py",
   "mimetype": "text/x-python",
   "name": "python",
   "nbconvert_exporter": "python",
   "pygments_lexer": "ipython3",
   "version": 3
  },
  "orig_nbformat": 2,
  "kernelspec": {
   "name": "python_defaultSpec_1596358684973",
   "display_name": "Python 3.7.3 64-bit"
  }
 },
 "nbformat": 4,
 "nbformat_minor": 2,
 "cells": [
  {
   "cell_type": "markdown",
   "metadata": {},
   "source": [
    "# Write a function that reverses a string.\n",
    "\n",
    "Example:\n",
    "Input: \"hello\"\n",
    "Output: \"olleh\"\n",
    "\n",
    "## Plan\n",
    "\n",
    "## Two pointer \n",
    "- use two pointers, one points to the left and the other to the right\n",
    "- swap both pointer, and move one step toward the center\n",
    "- repeat until both pointer points to the same char or crossed each other \n",
    "- construct array if needed ( java string concat takes O(n), and we need to use stringbuilder)\n",
    "Time complexity: O(n)\n",
    "Space complexity: O(n)\n",
    "\n",
    " "
   ]
  },
  {
   "cell_type": "code",
   "execution_count": 93,
   "metadata": {
    "tags": []
   },
   "outputs": [
    {
     "output_type": "stream",
     "name": "stdout",
     "text": "olleH\nfefonioahieh\n"
    }
   ],
   "source": [
    "def reverseStr(strIn):\n",
    "    strOut = \"\"\n",
    "    for char in strIn:\n",
    "        strOut = char + strOut\n",
    "    return strOut\n",
    "\n",
    "def reverseStr_two_pointer(strIn):\n",
    "    arr = list(strIn)\n",
    "    l, r = 0, len(strIn)-1\n",
    "    while l < r:\n",
    "        arr[l], arr[r] = arr[r], arr[l]\n",
    "        l += 1\n",
    "        r -= 1\n",
    "    return \"\".join(arr)\n",
    "\n",
    "\n",
    "print(reverseStr(\"Hello\"))\n",
    "print(reverseStr_two_pointer(\"heihaoinofef\"))"
   ]
  },
  {
   "cell_type": "markdown",
   "metadata": {},
   "source": [
    "# Write a function that takes in two strings and returns true if the second string is substring of the first, and false otherwise.\n",
    "\n",
    "Examples: \n",
    "Input: laboratory, rat\n",
    "Output: true\n",
    "\n",
    "Input: cat, meow\n",
    "Output: false"
   ]
  },
  {
   "cell_type": "markdown",
   "metadata": {},
   "source": [
    "## Understand\n",
    "\n",
    "Any length \\[0, infinity\\]\n",
    "Second string is substring of the first -> true ; NOT vise versa\n",
    "\n",
    "what if second string larger than the first one? -> ? return false immediately \n",
    "\n",
    "## Match\n",
    "\n",
    "Two pointer? Sliding window? \n",
    "\n",
    "## Plan\n",
    "\n",
    "### Sliding window Works\n",
    "\n",
    "Helloelow\n",
    "elo-> \n",
    "\n",
    "- Get length of the both string\n",
    "- if len(second) > len (first), return false  -> conditions of len(second) > len(first)\n",
    "- for conditions of len(first) >= len(second) -> 刚刚没考虑到 ‘=‘ 的情况，思维不要跳\n",
    "    - if len(first) > len(second)\n",
    "        - for i in range (0, len(first) - len(last)) -> \n",
    "            - call isSame(str1\\[i:i+len(2)\\], str2)\n",
    "                -  true return true\n",
    "                -  (continue)\n",
    "    - if len(first) = len(second)\n",
    "        - check one by one  -> call submethod: isSame(str1, str2) -> bool\n",
    "\n"
   ]
  },
  {
   "cell_type": "code",
   "execution_count": 105,
   "metadata": {},
   "outputs": [],
   "source": [
    "def subString(str1, str2):\n",
    "    if len(str2) > len(str1):\n",
    "        return False\n",
    "    elif len(str1) == len(str2):\n",
    "        return isSameStr(str1, str2)\n",
    "    else:\n",
    "        for i in range(0, len(str1)-len(str2)):\n",
    "            if isSameStr(str1[i:i+len(str2)], str2):\n",
    "                return True\n",
    "        return False\n",
    "\n",
    "def isSameStr(a, b):\n",
    "    for i in range(0, len(a)):\n",
    "        if a[i]!= b[i]:\n",
    "            return False\n",
    "    return True\n",
    "\n",
    "\n",
    "#Sample solution\n",
    "def substring(large_str, potential_substr):\n",
    "    if len(potential_substr) < 1:\n",
    "        return True\n",
    "    for i in range(len(large_str)):\n",
    "        large_str_idx, j = i, 0\n",
    "        while j < len(potential_substr) and large_str_idx < len(large_str) and large_str[large_str_idx] == potential_substr[j]:\n",
    "            j += 1\n",
    "            large_str_idx += 1\n",
    "        if j == len(potential_substr):\n",
    "            return True\n",
    "    return False"
   ]
  },
  {
   "cell_type": "code",
   "execution_count": 106,
   "metadata": {
    "tags": []
   },
   "outputs": [
    {
     "output_type": "stream",
     "name": "stdout",
     "text": "True\nFalse\nTrue\n"
    }
   ],
   "source": [
    "print(subString(\"dsfasdf\", \"fas\"))\n",
    "print(subStringSample(\"dsfasdf\", \"fas\"))\n",
    "print(substring(\"dsfasdf\", \"fas\"))"
   ]
  },
  {
   "cell_type": "markdown",
   "metadata": {},
   "source": [
    "# Given a prime number, return the next smallest prime number\n",
    "\n",
    "Examples:\n",
    "Input: 3 \n",
    "Output: 5"
   ]
  },
  {
   "cell_type": "markdown",
   "metadata": {},
   "source": [
    "## Understand:\n",
    " 2 3 5 7 11 13 17 19 \n",
    "input is a prime number, we need to find out the next smallest prime number\n",
    "the input prime number can be [0, infinity]\n",
    "   2 -> givern prime\n",
    "   given prime -> next smallest prime \n",
    "\n",
    "\n",
    "### Failed to Consider:\n",
    "\n",
    "   Is the input always positive?\n",
    "   No\n",
    "\n",
    "### test case:\n",
    "\n",
    "- case 1 input = 1, return 2\n",
    "- case 2 input = 5, return 7\n",
    "- case 3 input = -10, return 2\n",
    "The smallest prime number is 2, so any input less than 2 should return 2\n",
    "\n",
    "## Match\n",
    "\n",
    "## Plan\n",
    "\n",
    "   what is a prime number: \n",
    "\n",
    "      for all k < x, x % k != 0\n",
    "\n",
    "   composite number:\n",
    "\n",
    "      for some prime number k < x,  x % k == 0\n",
    "\n",
    "\n",
    "   - if we want to get next small prime number, we would check all the number above input prime number, until we found a prime number.\n",
    "   - in order to check if the number is a prime number, we would let the number mod [2,input prime], if all failed, is prime\n",
    "\n",
    "       \n",
    "### Brute force\n",
    "\n",
    "use mod operation to get prime number until found one large than the input prime number \n",
    "\n",
    "### Brute force (cache)\n",
    "\n",
    "- use mode operation to get prime number \n",
    "   - if have prime number list, then first use prime number list, and \n",
    "      - then from the end of the prime list to the number, get more prime number and save to the list\n",
    "\n",
    "### Failed to Consider\n",
    "\n",
    "HINT: Ask the students what the largest factor of any number, n, could be.\n",
    "\n",
    "ANSWER: Given a number n, the largest factor of n is \n",
    "√\n",
    "n\n",
    ". This should imply, the loop to find if a number is prime should stop at \n",
    "√\n",
    "n\n",
    ".\n",
    "\n"
   ]
  },
  {
   "cell_type": "code",
   "execution_count": 8,
   "metadata": {},
   "outputs": [],
   "source": [
    "import math\n",
    "# Brute force\n",
    "def isPrime(num):\n",
    "    if num < 2:\n",
    "        return False\n",
    "    if num < 4:\n",
    "        return True\n",
    "\n",
    "    for i in range(4, int(math.sqrt(num))):\n",
    "        if num % i == 0: \n",
    "            return False\n",
    "    return True\n"
   ]
  },
  {
   "cell_type": "code",
   "execution_count": 15,
   "metadata": {},
   "outputs": [],
   "source": [
    "def NextPrime(num):\n",
    "    if num <= 1:\n",
    "        return 2\n",
    "    num = num + 1\n",
    "    while not isPrime(num):\n",
    "        num = num +1\n",
    "    return num"
   ]
  },
  {
   "cell_type": "code",
   "execution_count": 19,
   "metadata": {
    "tags": []
   },
   "outputs": [
    {
     "output_type": "stream",
     "name": "stdout",
     "text": "10432340000123266\n11.415941953659058\n"
    }
   ],
   "source": [
    "import time\n",
    "start = time.time()\n",
    "res = NextPrime(10432340000123231)\n",
    "end = time.time()\n",
    "print(res)\n",
    "print(end - start)"
   ]
  }
 ]
}