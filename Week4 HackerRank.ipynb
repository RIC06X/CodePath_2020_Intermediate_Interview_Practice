{
 "metadata": {
  "language_info": {
   "codemirror_mode": {
    "name": "ipython",
    "version": 3
   },
   "file_extension": ".py",
   "mimetype": "text/x-python",
   "name": "python",
   "nbconvert_exporter": "python",
   "pygments_lexer": "ipython3",
   "version": 3
  },
  "orig_nbformat": 2
 },
 "nbformat": 4,
 "nbformat_minor": 2,
 "cells": [
  {
   "cell_type": "markdown",
   "metadata": {},
   "source": [
    "Question 4.6\n",
    "\n",
    "Given a singly linked list, determine if it is a palindrome.\n",
    "\n",
    "Solution:\n",
    "To determine if a list is a palindrome, we split the list into 2 and reverse the second half.\n",
    "We then traverse through both the lists and compare the elements. If they match the list is a palindrome."
   ]
  },
  {
   "cell_type": "code",
   "execution_count": null,
   "metadata": {},
   "outputs": [],
   "source": [
    "def getMiddle(head):\n",
    "    if not head or not head.next:\n",
    "        return head\n",
    "    slow, fast = head, head\n",
    "    #4 1 \n",
    "    while fast and fast.next:\n",
    "        fast = fast.next.next\n",
    "        slow = slow.next\n",
    "    return slow\n",
    "\n",
    "def reverseList(head):\n",
    "    if not head or not head.next:\n",
    "        return head\n",
    "    cur, prev = head, None\n",
    "    while cur:\n",
    "        cur.next, prev, cur = prev, cur, cur.next\n",
    "    return prev\n",
    "\n",
    "def isPalindrome(head):\n",
    "    # Write your code here\n",
    "    if not head or not head.next:\n",
    "        return True\n",
    "    middle = getMiddle(head)\n",
    "    tail = reverseList(middle)\n",
    "    p1, p2 = head, tail\n",
    "    while p1 and p2:\n",
    "        if p1.data != p2.data:\n",
    "            return False\n",
    "        p1 = p1.next\n",
    "        p2 = p2.next\n",
    "    return True"
   ]
  },
  {
   "cell_type": "markdown",
   "metadata": {},
   "source": [
    "Given a linked list, swap every two adjacent nodes and return its head.\n",
    "\n",
    "Example:\n",
    "Given 1->2->3->4, you should return the list as 2->1->4->3."
   ]
  },
  {
   "cell_type": "code",
   "execution_count": null,
   "metadata": {},
   "outputs": [],
   "source": [
    "def swapNodesInPairs(head):\n",
    "    # Write your code here\n",
    "    #use dummy nodes to handle start case\n",
    "    #use two ptr prev and curr to track pre iteration's last node and curr node\n",
    "    #while curr and curr.next\n",
    "        #exchange nodes\n",
    "        #fix relation\n",
    "    if not head or not head.next:\n",
    "        return head\n",
    "    sentinel = ListNode(-1)\n",
    "    sentinel.next = head\n",
    "    prev, curr = sentinel, head\n",
    "    while curr and curr.next:\n",
    "        #exchange nodes and fix relation\n",
    "        temp = curr.next.next\n",
    "        prev.next = curr.next\n",
    "        curr.next.next = curr\n",
    "        curr.next = temp\n",
    "        #prep for next iter\n",
    "        prev = curr\n",
    "        curr = curr.next\n",
    "\n",
    "    return sentinel.next"
   ]
  }
 ]
}