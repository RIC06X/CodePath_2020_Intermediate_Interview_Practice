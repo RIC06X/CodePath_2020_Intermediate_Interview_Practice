{
 "metadata": {
  "language_info": {
   "codemirror_mode": {
    "name": "ipython",
    "version": 3
   },
   "file_extension": ".py",
   "mimetype": "text/x-python",
   "name": "python",
   "nbconvert_exporter": "python",
   "pygments_lexer": "ipython3",
   "version": 3
  },
  "orig_nbformat": 2,
  "kernelspec": {
   "name": "python_defaultSpec_1596613059264",
   "display_name": "Python 3.7.3 64-bit"
  }
 },
 "nbformat": 4,
 "nbformat_minor": 2,
 "cells": [
  {
   "cell_type": "markdown",
   "metadata": {},
   "source": [
    "# Intersection of Two Linked Lists.\n",
    "\n",
    "Write a program to find the node at which the intersection of two singly linked lists begins. For example, the following two linked lists:\n",
    "```\n",
    "\n",
    "A:          a1 → a2\n",
    "                   ↘\n",
    "                     c1 → c2 → c3\n",
    "                   ↗            \n",
    "B:     b1 → b2 → b3\n",
    "begin to intersect at node c1.\n",
    "```\n",
    "Notes:\n",
    "If the two linked lists have no intersection at all, return null.\n",
    "\n",
    "The linked lists must retain their original structure after the function returns.\n",
    "\n",
    "You may assume there are no cycles anywhere in the entire linked structure.\n",
    "\n",
    "Your code should preferably run in O(n) time and use only O(1) memory."
   ]
  },
  {
   "cell_type": "code",
   "execution_count": 1,
   "metadata": {},
   "outputs": [],
   "source": [
    "class Node:\n",
    "    def __init__(self, val):\n",
    "        self.val = val\n",
    "        self.next = None\n",
    "    \n",
    "    def __repr__(self):\n",
    "        return \"{self.val} -> {self.next}\"\n",
    "\n",
    "    def insert(self, val):\n",
    "        n = Node(val)\n",
    "        n.next = self\n",
    "        return n "
   ]
  },
  {
   "cell_type": "code",
   "execution_count": null,
   "metadata": {},
   "outputs": [],
   "source": [
    "def get_len(head: Node) -> int:\n",
    "    c = 0\n",
    "    while head:\n",
    "        c +=1\n",
    "        head = head.next\n",
    "    return c\n",
    "\n",
    "def make_same_length(ll1, ll2):\n",
    "    len1 = get_len(ll1)\n",
    "    len2 = get_len(ll2)\n",
    "\n",
    "    if len1 > len2:\n",
    "        long_ll, short_ll = ll1, ll2\n",
    "        long_len, short_len = len1, len2\n",
    "    else:\n",
    "        long_ll, short_ll = ll2, ll1\n",
    "        long_len, short_len = len2, len1\n",
    "    while long_ll > short_ll:\n",
    "        long_len -= 1\n",
    "        long_ll = long_ll.next\n",
    "    \n",
    "    return long_ll, short_ll\n"
   ]
  }
 ]
}