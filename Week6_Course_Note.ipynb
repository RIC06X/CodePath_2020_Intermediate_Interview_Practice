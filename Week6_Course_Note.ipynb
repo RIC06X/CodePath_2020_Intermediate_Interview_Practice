{
 "metadata": {
  "language_info": {
   "codemirror_mode": {
    "name": "ipython",
    "version": 3
   },
   "file_extension": ".py",
   "mimetype": "text/x-python",
   "name": "python",
   "nbconvert_exporter": "python",
   "pygments_lexer": "ipython3",
   "version": 3
  },
  "orig_nbformat": 2
 },
 "nbformat": 4,
 "nbformat_minor": 2,
 "cells": [
  {
   "cell_type": "markdown",
   "metadata": {},
   "source": [
    "# Stack\n",
    "- a data structure that stores in the LIFO\n",
    "- push and pop\n",
    "\n",
    "```python\n",
    "stack = []\n",
    "stack.append(4)\n",
    "stack.append(5)\n",
    "# 5->4->None\n",
    "stack.pop()\n",
    "# 4->None\n",
    "```\n",
    "push, pop, peek, isEmpty: all O(1)\n",
    "\n",
    "## Common Questions:\n",
    "- Parsing Questions:\n",
    "    - evaluating arithmetic expressions\n",
    "    - matching brackets\n",
    "- Stack can be used to implement recursive solution iteratively\n"
   ]
  },
  {
   "cell_type": "markdown",
   "metadata": {},
   "source": [
    "## Problem\n",
    "design a stack that suppport push, pop, peek, getMin()\n",
    "\n",
    "## UMPIRE\n",
    "\n",
    "## Understand\n",
    "- ask clarifying question\n",
    "    - are we gonna store integer values in the stack \n",
    "- verify inputs and outputs\n",
    "- stated edge cases\n",
    "    - 2, 1, 1 getMin() -> 1\n",
    "    - 2, 1      getMin -> 1\n",
    "- Time or space constraints"
   ]
  }
 ]
}