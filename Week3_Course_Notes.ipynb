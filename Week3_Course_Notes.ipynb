{
 "metadata": {
  "language_info": {
   "codemirror_mode": {
    "name": "ipython",
    "version": 3
   },
   "file_extension": ".py",
   "mimetype": "text/x-python",
   "name": "python",
   "nbconvert_exporter": "python",
   "pygments_lexer": "ipython3",
   "version": 3
  },
  "orig_nbformat": 2,
  "kernelspec": {
   "name": "python_defaultSpec_1596608283200",
   "display_name": "Python 3.7.3 64-bit"
  }
 },
 "nbformat": 4,
 "nbformat_minor": 2,
 "cells": [
  {
   "cell_type": "markdown",
   "metadata": {},
   "source": [
    "# Linked List\n",
    "\n",
    "## Understand\n",
    "\n",
    "Ask Questions\n",
    "List test cases: \n",
    "\n",
    "- Do we have time/spae constraints?\n",
    "\n",
    "\n",
    "## Match\n",
    "\n",
    "- Dummy head\n",
    "    - Merge two linked list\n",
    "    - Delete a node\n",
    "- Two pointers\n",
    "    - get more info look ahead\n",
    "- Multi-pass\n",
    "    - cache infomations\n",
    "\n",
    "## Pseducode/Plan\n"
   ]
  },
  {
   "cell_type": "markdown",
   "metadata": {},
   "source": [
    "Linked list:\n",
    "\n",
    "- pro: \n",
    "    - confines operations on one end of the data structure \n",
    "    - dealing with arbitrary yet small sizes numbers of nodes\n",
    "- con:\n",
    "    - poor support on random access\n",
    "    - not good storage data structure, for every value your store you pay extra space for the ListNode object"
   ]
  },
  {
   "cell_type": "markdown",
   "metadata": {},
   "source": [
    "Node - a position in a list that contains the value of whatever is stored at the position as well as at least one reference to another node.\n",
    "- Head — node at the beginning of the list.\n",
    "- Tail — node at the end of the list.\n",
    "- Sentinel — a dummy node, typically placed at the head or end of the list to help make operations simpler (e.g., delete) - or to indicate the termination of the list"
   ]
  },
  {
   "cell_type": "code",
   "execution_count": 9,
   "metadata": {},
   "outputs": [],
   "source": [
    "# Python Linked List\n",
    "class ListNode:\n",
    "    def __init__(self, value):\n",
    "        self.val = value\n",
    "        self.next = None\n",
    "    \n",
    "def insert(head, val):\n",
    "    node = ListNode(val)\n",
    "    node.next = self\n",
    "    return node\n",
    "\n",
    "def delete(head, val):      \n",
    "    s = ListNode(\"sentinel\") # dummy node \n",
    "    s.next = self       \n",
    "    p = s       # previous node pointer \n",
    "    c = self    # linked list itself \n",
    "    while c:\n",
    "        if c.val == val:\n",
    "            p.next = c.next\n",
    "            return s.next\n",
    "        p = c\n",
    "        c = c.next\n",
    "    return s.next\n",
    "\n",
    "def __len__(head):\n",
    "    c = self\n",
    "    l = 0\n",
    "    while c:\n",
    "        l += 1\n",
    "        c = c.next\n",
    "    return l\n",
    "\n"
   ]
  },
  {
   "cell_type": "code",
   "execution_count": null,
   "metadata": {},
   "outputs": [],
   "source": [
    "# Create a linked list\n",
    "head = ListNode(1)\n",
    "head.next = ListNode(2)\n",
    "\n",
    "# created a linked list 1->2"
   ]
  },
  {
   "cell_type": "markdown",
   "metadata": {},
   "source": [
    "# Match\n",
    "\n",
    "## Dummy head \n",
    "- a node that a lways points to the final answer or list that you want to return\n",
    "\n",
    "## Multi Pass\n",
    "- pass though the linked list for constant times to calculate or summary infomations of the linked list that will simplify your algorithm\n",
    "\n",
    "## Two Pointers\n",
    "- how the pointer iterate can be used to make calculations on the list more efficient. \n",
    "- example \n",
    "    - cycle detection\n"
   ]
  },
  {
   "cell_type": "code",
   "execution_count": 18,
   "metadata": {
    "tags": []
   },
   "outputs": [
    {
     "output_type": "stream",
     "name": "stdout",
     "text": "True\n"
    }
   ],
   "source": [
    "class Node(object):\n",
    "    def __init__(self, v):\n",
    "        self.val = v\n",
    "        self.next = None\n",
    "        \n",
    "    def insert(self, n):\n",
    "        n.next = self\n",
    "        return n\n",
    "    \n",
    "    def __repr__(self):\n",
    "        return f\"{self.val} -> {self.next}\"\n",
    "\n",
    "\n",
    "def hasCycle(head):\n",
    "    if not head or not head.next:\n",
    "        return False\n",
    "    fp = head.next\n",
    "    sp = head\n",
    "    while fp and fp.next:\n",
    "        if fp == sp:\n",
    "            return True\n",
    "        fp = fp.next.next\n",
    "        sp = sp.next\n",
    "    return False\n",
    "\n",
    "my_list = Node(7).insert(Node(5))\n",
    "my_list.next.next = my_list\n",
    "#print(my_list) cannot print since the linked list is a closed loop\n",
    "print(hasCycle(my_list))"
   ]
  },
  {
   "cell_type": "markdown",
   "metadata": {},
   "source": [
    "# Problem 1 - Palindrome\n",
    "Given a linked list, determine if it is a palindrome. Your method would take in a linked list and return True / False for whether the list is a palindrome or not"
   ]
  },
  {
   "cell_type": "markdown",
   "metadata": {},
   "source": [
    "## Understand \n",
    "\n",
    "- Is the linked list here a singledly linked list?\n",
    "- is the input is a None, should the output be False\n",
    "- Is the linke list a cycled linked list?\n",
    "- if the linked list has only one node, should we consider it is a palindrome?\n",
    "\n",
    "```python\n",
    "\"\" -> False\n",
    "\"madam\" -> True\n",
    "\"a\" -> True\n",
    "\"madem\" -> False\n",
    "\"maddam\" -> True\n",
    "```\n",
    "- Is there any space/time constraints?\n",
    "\n"
   ]
  },
  {
   "cell_type": "markdown",
   "metadata": {},
   "source": [
    "# Problem 2 - Detect Cycle\n",
    "\n",
    "Given a linked list, determine if it has a cycle in it. For this problem, it may be helpful for you to write some pseudocode on how to build a linked list with a cycle. A linked list with a cycle may look something like:"
   ]
  },
  {
   "cell_type": "code",
   "execution_count": 38,
   "metadata": {
    "tags": []
   },
   "outputs": [
    {
     "output_type": "stream",
     "name": "stdout",
     "text": "3 -> 8 -> 5 -> 7 -> None\n"
    }
   ],
   "source": [
    "class Node:\n",
    "    def __init__(self, val):\n",
    "        self.val = val\n",
    "        self.next = None\n",
    "    def insert(self,n):\n",
    "        n.next = self\n",
    "        return n\n",
    "    def __repr__(self):\n",
    "        return f\"{self.val} -> {self.next}\"\n",
    "\n",
    "ll = Node(7).insert(Node(5))\n",
    "ll = ll.insert(Node(8))\n",
    "ll = ll.insert(Node(3))\n",
    "print(ll)\n",
    "#ll.next.next.next.next = ll.next\n"
   ]
  },
  {
   "cell_type": "markdown",
   "metadata": {
    "tags": []
   },
   "source": [
    "## Understand\n",
    "\n",
    "- can a Cycle contains only one node?\n",
    "- is there any time/space contraints?\n",
    "- if we have a null input, should we output False?\n",
    "\n",
    "## Examples\n",
    "\n",
    "```\n",
    "3-> 4 -> 5->6 ->3(loop back to first)\n",
    "3-> 4 -> 5->6 ->4 (loop back to second)\n",
    "3->4 -> 5\n",
    "3\n",
    "None\n",
    "\n",
    "```"
   ]
  },
  {
   "cell_type": "markdown",
   "metadata": {},
   "source": [
    "# Problem 3 - Remove Instances\n",
    "\n",
    "Given a linked list and a value x, remove all instances of x from the linked lis"
   ]
  },
  {
   "cell_type": "code",
   "execution_count": null,
   "metadata": {},
   "outputs": [],
   "source": [
    "## Understand\n"
   ]
  },
  {
   "cell_type": "markdown",
   "metadata": {},
   "source": [
    "# Problem 4 (Challenge!) - Partition\n",
    "Given a linked list and a value x, partition it such that all nodes less than x come before nodes greater than or equal to x.\n"
   ]
  },
  {
   "cell_type": "markdown",
   "metadata": {},
   "source": [
    "## Understand\n",
    "\n",
    "- Is there any space\\time constrains? \n",
    "    - Should we partition in place \n",
    "    - should we remain the original sequence \n",
    "- if x is not in the ll, should we output the input?\n",
    "- Is each of the Node's value unique?\n",
    "\n",
    "\n",
    "## Examples:\n",
    "\n",
    "```\n",
    "Test case 1:\n",
    "input =  2-> 4-> 5-> 6->3->2->1->99  x = 5 \n",
    "output = \n",
    "1-> 2-> 3-> 2 -> 4 -> 5 -> 6 -> 99\n",
    "\n",
    "Test case 2: \n",
    "input = 2-> 4-> 5-> 6->3->2->1->99  x = 7\n",
    "output = \n",
    "2-> 4-> 5-> 6->3->2->1->99\n",
    "Test case3:\n",
    "input = 3-> None    x= 3\n",
    "output = 3\n",
    "```\n",
    "\n",
    "## Match\n",
    "- two pointer + dummy head\n"
   ]
  }
 ]
}