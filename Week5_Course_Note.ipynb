{
 "metadata": {
  "language_info": {
   "codemirror_mode": {
    "name": "ipython",
    "version": 3
   },
   "file_extension": ".py",
   "mimetype": "text/x-python",
   "name": "python",
   "nbconvert_exporter": "python",
   "pygments_lexer": "ipython3",
   "version": "3.8.4-final"
  },
  "orig_nbformat": 2,
  "kernelspec": {
   "name": "python_defaultSpec_1598864439433",
   "display_name": "Python 3.8.4 64-bit"
  }
 },
 "nbformat": 4,
 "nbformat_minor": 2,
 "cells": [
  {
   "cell_type": "markdown",
   "metadata": {},
   "source": [
    "# Week5 Review - Hashtable and LinkedList"
   ]
  },
  {
   "cell_type": "markdown",
   "metadata": {},
   "source": [
    "# Problem 1 - Reverse a doubly linkedlist in the group of given size\n",
    "\n",
    "Given a doubly linked list containing n nodes. The problem is to reverse every group of k nodes in the list.\n",
    "\n",
    "Example:\n",
    "\n",
    "Input: 1 <-> 2 <-> 3 <-> 4 <-> 5 <-> 6 <-> 7 <-> 8\n",
    "       k = 3\n",
    "Output: 3 <-> 2 <-> 1 <-> 6 <-> 5 <-> 4 <-> 8 <-> 7"
   ]
  },
  {
   "cell_type": "markdown",
   "metadata": {},
   "source": [
    "## Underestand\n",
    "1. May I assume the group variable k must be postive? and if k is smaller than 0, should I return the original linkedlist?\n",
    "2. May I assume the I should reverse all the elements in that group even if the actual size is smaller than declared group size?\n",
    "    Yeees\n",
    "3. How should I handle empty LL? return head\n"
   ]
  },
  {
   "cell_type": "code",
   "execution_count": null,
   "metadata": {},
   "outputs": [],
   "source": [
    "# Match/Plan\n",
    "#dummy nodes to handle edges cases\n",
    "#then use multi-ptr to track nodes and reverse order\n",
    "\n",
    "#reverseList"
   ]
  },
  {
   "cell_type": "code",
   "execution_count": 2,
   "metadata": {
    "tags": []
   },
   "outputs": [
    {
     "output_type": "stream",
     "name": "stdout",
     "text": "1 -> 2 -> 3 -> 4 -> 5 -> 6 -> 7 -> None\n       None -> 1 -> 2 -> 3 -> 4 -> 5 -> 6 -> 7\n"
    }
   ],
   "source": [
    "class ListNode:\n",
    "    def __init__(self, val):\n",
    "        self.val = val\n",
    "        self.prev = None\n",
    "        self.next = None\n",
    "    \n",
    "    def insert(self, node):\n",
    "        node.prev = self\n",
    "        self.next = node\n",
    "        return node\n",
    "    \n",
    "    def __repr__(self):\n",
    "        return  f' {self.prev} -> {self.val}'\n",
    "\n",
    "def printPrev(head: ListNode) -> ListNode:\n",
    "    print(head)\n",
    "\n",
    "def printNext(head: ListNode) -> ListNode:\n",
    "    if not head:\n",
    "        return \"None\"\n",
    "    return str(head.val) + \" -> \" + printNext(head.next)\n",
    "\n",
    "head = ListNode(1)\n",
    "tail = head.insert(ListNode(2))\n",
    "tail = tail.insert(ListNode(3))\n",
    "tail = tail.insert(ListNode(4))\n",
    "tail = tail.insert(ListNode(5))\n",
    "tail = tail.insert(ListNode(6))\n",
    "tail = tail.insert(ListNode(7))\n",
    "\n",
    "\n",
    "print(printNext(head))\n",
    "printPrev(tail)"
   ]
  },
  {
   "cell_type": "code",
   "execution_count": 54,
   "metadata": {
    "tags": []
   },
   "outputs": [],
   "source": [
    "def reverseList(head: ListNode) -> ListNode:\n",
    "    if not head or not head.next:\n",
    "        return head\n",
    "    temp = None\n",
    "    curr = head\n",
    "    pre_list = head.prev\n",
    "    while curr:\n",
    "        temp = curr.prev\n",
    "        curr.prev = curr.next\n",
    "        curr.next = temp\n",
    "        curr = curr.prev\n",
    "    #clear new_list's next\n",
    "    new_tail = head.next = None\n",
    "    #find new head\n",
    "    new_head = head\n",
    "    while new_head.prev:\n",
    "        new_head = new_head.prev\n",
    "    #fix connection between presubList with current list\n",
    "    if pre_list:\n",
    "        pre_list.next = new_head\n",
    "        new_head.prev = pre_list\n",
    "    return new_tail"
   ]
  },
  {
   "cell_type": "markdown",
   "metadata": {},
   "source": [
    "## Plan\n",
    "1. have 3 ptr, track head, tail and temp (tail.next) of subarray\n",
    "2. break tail.next and reverse head to tail\n",
    "3. reverse\n",
    "4. connect new tail with temp\n",
    "5. continue iteration until tail.next is None, return new tail\n"
   ]
  },
  {
   "cell_type": "code",
   "execution_count": 56,
   "metadata": {},
   "outputs": [],
   "source": [
    "def reverseLL_GivenSize(node: ListNode, k: int) -> ListNode:\n",
    "    if not node or not node.next:\n",
    "        return node\n",
    "    head_sub, tail_sub, counter = node, node, 1\n",
    "    while head_sub:\n",
    "        while counter < k and tail_sub.next!= None:\n",
    "            tail_sub = tail_sub.next\n",
    "            counter += 1\n",
    "        #Handle case of tail_sub.next is not None \n",
    "        \n",
    "        temp = tail_sub.next\n",
    "        tail_sub.next = None\n",
    "        #Reverse subList\n",
    "        reverseList(head_sub)\n",
    "        #Connect List\n",
    "        head_sub.next = temp\n",
    "        if temp:\n",
    "            temp.prev = head_sub\n",
    "        else:\n",
    "            # temp point to the null, new_tail is the last node, return result\n",
    "            return head_sub\n",
    "        #new iteration\n",
    "        head_sub, tail_sub, counter = temp, temp, 1"
   ]
  },
  {
   "cell_type": "code",
   "execution_count": 57,
   "metadata": {
    "tags": []
   },
   "outputs": [
    {
     "output_type": "stream",
     "name": "stdout",
     "text": "None -> 2 -> 1 -> 4 -> 3 -> 6 -> 5 -> 7\n"
    }
   ],
   "source": [
    "printPrev(reverseLL_GivenSize(head, 2))"
   ]
  },
  {
   "cell_type": "markdown",
   "metadata": {},
   "source": [
    "## Review and Evaluation\n",
    "Time: O(n)\n",
    "\n",
    "Space: O(1) in-space swape, not using additional space"
   ]
  },
  {
   "cell_type": "markdown",
   "metadata": {},
   "source": [
    "# (Optional) Problem 2 - Count triplets in a sorted doubly linked list whose sum is equal to a given value\n",
    "\n",
    "Given a sorted doubly linked list of distinct nodes (i.e. no two nodes have the same data), count triplets in the list that sum up to a given value x.\n",
    "Example:\n",
    "```\n",
    "Input: 1 <-> 2 <-> 3 <-> 4 <-> 5 <-> 6 <-> 7 <-> 8 <-> 9\n",
    "       x = 17\n",
    "Output: 2\n",
    "```\n",
    "Explanation: There are two triplets: (2, 6, 9), (4, 5, 8)\n"
   ]
  },
  {
   "cell_type": "code",
   "execution_count": null,
   "metadata": {},
   "outputs": [],
   "source": [
    "## Understand\n",
    "\n",
    "- find 3 nodes set that its sum equals to x\n",
    "- what if none satisify the requirement?\n",
    "    - return 0?\n",
    "- Space/Time complexity constraint?\n",
    "- distinct nodes: no two nodes has same data"
   ]
  },
  {
   "cell_type": "markdown",
   "metadata": {},
   "source": [
    "## Match and Plan\n",
    "\n",
    "use HashTable to reduce time complexity\n",
    "\n",
    "1. put nodes to hashtable\n",
    "\n",
    "2. use two for loop to iterate each combination, it sum matches x, counter + 1"
   ]
  },
  {
   "cell_type": "code",
   "execution_count": 3,
   "metadata": {},
   "outputs": [],
   "source": [
    "def countTriplets(node:ListNode, x : int) -> int:\n",
    "    if not node or not node.next:\n",
    "        return node\n",
    "    hash_table = dict()\n",
    "    curr = node\n",
    "    while curr:\n",
    "        hash_table[x-curr.val] = curr\n",
    "        curr = curr.next\n",
    "    ptr1, counter = node, 0\n",
    "    while ptr1:\n",
    "        ptr2 =  ptr1.next\n",
    "        while ptr2:\n",
    "            if ptr1.val + ptr2.val in hash_table:\n",
    "                if ptr1!= hash_table[ptr1.val+ptr2.val] and ptr2 != hash_table[ptr1.val+ptr2.val]:\n",
    "                    counter += 1\n",
    "            ptr2 = ptr2.next\n",
    "        ptr1 = ptr1.next\n",
    "    counter = counter/3 \n",
    "    return counter"
   ]
  },
  {
   "cell_type": "code",
   "execution_count": 4,
   "metadata": {
    "tags": []
   },
   "outputs": [
    {
     "output_type": "stream",
     "name": "stdout",
     "text": "1 -> 2 -> 3 -> 4 -> 5 -> 6 -> 7 -> 8 -> 9 -> None\n"
    }
   ],
   "source": [
    "head = ListNode(1)\n",
    "tail = head.insert(ListNode(2))\n",
    "tail = tail.insert(ListNode(3))\n",
    "tail = tail.insert(ListNode(4))\n",
    "tail = tail.insert(ListNode(5))\n",
    "tail = tail.insert(ListNode(6))\n",
    "tail = tail.insert(ListNode(7))\n",
    "tail = tail.insert(ListNode(8))\n",
    "tail = tail.insert(ListNode(9))\n",
    "print(printNext(head))"
   ]
  },
  {
   "cell_type": "code",
   "execution_count": 5,
   "metadata": {
    "tags": []
   },
   "outputs": [
    {
     "output_type": "stream",
     "name": "stdout",
     "text": "7.0\n"
    }
   ],
   "source": [
    "print(countTriplets(head, 17))"
   ]
  },
  {
   "cell_type": "markdown",
   "metadata": {},
   "source": [
    "# 25. Reverse Nodes in k-Group\n",
    "Given a linked list, reverse the nodes of a linked list k at a time and return its modified list.\n",
    "\n",
    "k is a positive integer and is less than or equal to the length of the linked list. If the number of nodes is not a multiple of k then left-out nodes in the end should remain as it is.\n",
    "\n",
    "Example:\n",
    "```\n",
    "Given this linked list: 1->2->3->4->5\n",
    "\n",
    "For k = 2, you should return: 2->1->4->3->5\n",
    "\n",
    "For k = 3, you should return: 3->2->1->4->5\n",
    "```\n",
    "Note:\n",
    "\n",
    "Only constant extra memory is allowed.\n",
    "You may not alter the values in the list's nodes, only nodes itself may be changed.\n",
    "\n",
    "来源：力扣（LeetCode）\n",
    "链接：https://leetcode-cn.com/problems/reverse-nodes-in-k-group\n",
    "著作权归领扣网络所有。商业转载请联系官方授权，非商业转载请注明出处。\n",
    "https://leetcode-cn.com/problems/reverse-nodes-in-k-group/?utm_source=LCUS&utm_medium=ip_redirect_q_uns&utm_campaign=transfer2china\n"
   ]
  },
  {
   "cell_type": "code",
   "execution_count": null,
   "metadata": {},
   "outputs": [],
   "source": []
  },
  {
   "cell_type": "markdown",
   "metadata": {},
   "source": [
    "# 题型总结\n",
    "\n",
    "ReverseList: \n",
    "\n",
    "- single linked list reverse\n",
    "    - reverse list in sized group 连接新链和旧链\n",
    "- doubled linked list reverse\n",
    "    - reverse list in sized group 连接新链和旧链\n"
   ]
  }
 ]
}