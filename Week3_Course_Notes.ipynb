{
 "metadata": {
  "language_info": {
   "codemirror_mode": {
    "name": "ipython",
    "version": 3
   },
   "file_extension": ".py",
   "mimetype": "text/x-python",
   "name": "python",
   "nbconvert_exporter": "python",
   "pygments_lexer": "ipython3",
   "version": 3
  },
  "orig_nbformat": 2,
  "kernelspec": {
   "name": "python_defaultSpec_1596788342163",
   "display_name": "Python 3.7.3 64-bit"
  }
 },
 "nbformat": 4,
 "nbformat_minor": 2,
 "cells": [
  {
   "cell_type": "markdown",
   "metadata": {},
   "source": [
    "# Linked List\n",
    "\n",
    "## Understand\n",
    "\n",
    "Ask Questions\n",
    "List test cases: \n",
    "\n",
    "- Do we have time/spae constraints?\n",
    "\n",
    "\n",
    "## Match\n",
    "\n",
    "- Dummy head\n",
    "    - Merge two linked list\n",
    "    - Delete a node\n",
    "- Two pointers\n",
    "    - get more info look ahead\n",
    "- Multi-pass\n",
    "    - cache infomations\n",
    "\n",
    "## Pseducode/Plan\n"
   ]
  },
  {
   "cell_type": "markdown",
   "metadata": {},
   "source": [
    "Linked list:\n",
    "\n",
    "- pro: \n",
    "    - confines operations on one end of the data structure \n",
    "    - dealing with arbitrary yet small sizes numbers of nodes\n",
    "- con:\n",
    "    - poor support on random access\n",
    "    - not good storage data structure, for every value your store you pay extra space for the ListNode object"
   ]
  },
  {
   "cell_type": "markdown",
   "metadata": {},
   "source": [
    "Node - a position in a list that contains the value of whatever is stored at the position as well as at least one reference to another node.\n",
    "- Head — node at the beginning of the list.\n",
    "- Tail — node at the end of the list.\n",
    "- Sentinel — a dummy node, typically placed at the head or end of the list to help make operations simpler (e.g., delete) - or to indicate the termination of the list"
   ]
  },
  {
   "cell_type": "code",
   "execution_count": 9,
   "metadata": {},
   "outputs": [],
   "source": [
    "# Python Linked List\n",
    "class ListNode:\n",
    "    def __init__(self, value):\n",
    "        self.val = value\n",
    "        self.next = None\n",
    "    \n",
    "def insert(head, val):\n",
    "    node = ListNode(val)\n",
    "    node.next = self\n",
    "    return node\n",
    "\n",
    "def delete(head, val):      \n",
    "    s = ListNode(\"sentinel\") # dummy node \n",
    "    s.next = self       \n",
    "    p = s       # previous node pointer \n",
    "    c = self    # linked list itself \n",
    "    while c:\n",
    "        if c.val == val:\n",
    "            p.next = c.next\n",
    "            return s.next\n",
    "        p = c\n",
    "        c = c.next\n",
    "    return s.next\n",
    "\n",
    "def __len__(head):\n",
    "    c = self\n",
    "    l = 0\n",
    "    while c:\n",
    "        l += 1\n",
    "        c = c.next\n",
    "    return l\n",
    "\n"
   ]
  },
  {
   "cell_type": "code",
   "execution_count": null,
   "metadata": {},
   "outputs": [],
   "source": [
    "# Create a linked list\n",
    "head = ListNode(1)\n",
    "head.next = ListNode(2)\n",
    "\n",
    "# created a linked list 1->2"
   ]
  },
  {
   "cell_type": "markdown",
   "metadata": {},
   "source": [
    "# Match\n",
    "\n",
    "## Dummy head \n",
    "- a node that a lways points to the final answer or list that you want to return\n",
    "\n",
    "## Multi Pass\n",
    "- pass though the linked list for constant times to calculate or summary infomations of the linked list that will simplify your algorithm\n",
    "\n",
    "## Two Pointers\n",
    "-  fast slow pointer            O(n)\n",
    "    - to find the middle point of the array\n",
    "- reverse a singled linked list: Time O(n); Space O(1)\n",
    "\n",
    "- how the pointer iterate can be used to make calculations on the list more efficient. \n",
    "- example \n",
    "    - cycle detection\n"
   ]
  },
  {
   "cell_type": "code",
   "execution_count": 18,
   "metadata": {
    "tags": []
   },
   "outputs": [
    {
     "output_type": "stream",
     "name": "stdout",
     "text": "True\n"
    }
   ],
   "source": [
    "# Two pointer:  Cycle detection\n",
    "class Node(object):\n",
    "    def __init__(self, v):\n",
    "        self.val = v\n",
    "        self.next = None\n",
    "        \n",
    "    def insert(self, n):\n",
    "        n.next = self\n",
    "        return n\n",
    "    \n",
    "    def __repr__(self):\n",
    "        return f\"{self.val} -> {self.next}\"\n",
    "\n",
    "\n",
    "def hasCycle(head):\n",
    "    if not head or not head.next:\n",
    "        return False\n",
    "    fp = head.next\n",
    "    sp = head\n",
    "    while fp and fp.next:\n",
    "        if fp == sp:\n",
    "            return True\n",
    "        fp = fp.next.next\n",
    "        sp = sp.next\n",
    "    return False\n",
    "\n",
    "my_list = Node(7).insert(Node(5))\n",
    "my_list.next.next = my_list\n",
    "#print(my_list) cannot print since the linked list is a closed loop\n",
    "print(hasCycle(my_list))"
   ]
  },
  {
   "cell_type": "code",
   "execution_count": null,
   "metadata": {},
   "outputs": [],
   "source": [
    "# Two pointer:  Reverse a single lnked list\n",
    "cur,pre = head,None\n",
    "while cur:\n",
    "\tcur.next,pre,cur = pre,cur,cur.next\n"
   ]
  },
  {
   "cell_type": "markdown",
   "metadata": {},
   "source": [
    "```\n",
    "5->4->3->2\n",
    "cur = 5\n",
    "    cur.next = None         #take the node of the orginal list  \n",
    "    pre = 5                 #Save current node and make it become the list's node's parents(previous node) \n",
    "    cur = 4                 #get the next node for the new list\n",
    "    5->None\n",
    "cur = 4\n",
    "    cur.next = 5\n",
    "    pre = 4\n",
    "    cur = 3\n",
    "    4->5->None\n",
    "cur = 3\n",
    "    cur.next = 4\n",
    "    pre= 3\n",
    "    cur = 2\n",
    "    3->4->5->None\n",
    "cur = 2\n",
    "    cur.next = 3\n",
    "```"
   ]
  },
  {
   "cell_type": "markdown",
   "metadata": {},
   "source": [
    "# Leetcode 234 Problem 1 - Linked list Palindrome\n",
    "Given a linked list, determine if it is a palindrome. Your method would take in a linked list and return True / False for whether the list is a palindrome or not\n",
    "\n",
    "## Understand \n",
    "\n",
    "- Is the linked list here a singledly linked list?\n",
    "- is the input is a None, should the output be False\n",
    "- Is the linke list a cycled linked list?\n",
    "- if the linked list has only one node, should we consider it is a palindrome?\n",
    "\n",
    "```python\n",
    "\"\" -> False\n",
    "\"madam\" -> True\n",
    "\"a\" -> True\n",
    "\"madem\" -> False\n",
    "\"maddam\" -> True\n",
    "```\n",
    "- Is there any space/time constraints?\n",
    "\n",
    "## Match\n",
    "- two pointer? \n",
    "- multi-pass?\n",
    "- dummy-head?\n",
    "\n",
    "m->a->d->a->m\n",
    "\n",
    "- If it is a double linked list, easy-> multipass\n",
    "- can we use extra space to checkc it? -> use stack"
   ]
  },
  {
   "cell_type": "code",
   "execution_count": 68,
   "metadata": {},
   "outputs": [],
   "source": [
    "\n",
    "#Plan\n",
    "# create a stack\n",
    "# loop through the linked list\n",
    "#     push into stack\n",
    "# loop through the linked list\n",
    "#     check stack.top == currentNode\n",
    "#         - no return False\n",
    "# - return True\n",
    "class Node:\n",
    "    def __init__(self, val):\n",
    "        self.val = val\n",
    "        self.next = None\n",
    "    def __repr__(self):\n",
    "        return f\"{self.val}->{self.next}\"\n",
    "\n",
    "def isPalindrome(head : Node) -> bool:\n",
    "    if not head or not head.next:\n",
    "        return True\n",
    "    stack = []\n",
    "    temp = head\n",
    "    while temp:\n",
    "        stack.append(temp.val)\n",
    "        temp = temp.next\n",
    "    temp = head\n",
    "    while temp and len(stack)>0:\n",
    "        if temp.val != stack.pop():\n",
    "            return False\n",
    "        temp = temp.next\n",
    "    return True\n",
    "\n",
    "def isPalindrome_2ptr(head: Node) -> bool:\n",
    "        #Edge case\n",
    "        if not head or not head.next:\n",
    "            return True\n",
    "        #find the middle of the list\n",
    "            #use fast, slow pointer \n",
    "        fast, slow = head, head\n",
    "        while fast and fast.next:\n",
    "            fast, slow = fast.next.next, slow.next\n",
    "        #do not need to handle even\\odd len of list,\n",
    "            #last node of the second list points to None\n",
    "            # odd : , two list points to the same last node\n",
    "                # m -> a -> d <- a <- m\n",
    "            # even: last node of the second list points to None , two list are same\n",
    "                # m -> a -> a <- m \n",
    "        #reverse the second list\n",
    "        cur, pre = slow, None\n",
    "        while cur:\n",
    "            cur.next, pre, cur = pre, cur, cur.next\n",
    "        new_head = pre\n",
    "        # for the check loop, we use second list's node as while argument\n",
    "        while pre:\n",
    "            if pre.val != head.val:\n",
    "                return False\n",
    "            pre = pre.next\n",
    "            head = head.next\n",
    "        return True\n",
    "\n",
    "    # #compare each node, and return \n",
    "\n",
    "    # 3->4->5\n",
    "    # fast = 5\n",
    "    # slow = 4\n",
    "\n",
    "    # 3->4->5->6\n",
    "    # fast = 5\n",
    "    # slow = 4 \n",
    "    \n",
    "    # fast = None\n",
    "    # slow = 5\n"
   ]
  },
  {
   "cell_type": "code",
   "execution_count": 75,
   "metadata": {
    "tags": []
   },
   "outputs": [
    {
     "output_type": "stream",
     "name": "stdout",
     "text": "m->a->a->m->None\nTrue\nTrue\n"
    }
   ],
   "source": [
    "strin = \"maam\"\n",
    "head = Node(None)\n",
    "for i in range(len(strin)-1,-1, -1):\n",
    "    n = Node(strin[i])\n",
    "    n.next = head.next\n",
    "    head.next = n\n",
    "print(head.next)\n",
    "print(isPalindrome(head.next))\n",
    "print(isPalindrome_2ptr(head.next))"
   ]
  },
  {
   "cell_type": "markdown",
   "metadata": {},
   "source": [
    "# Problem 2 - Detect Cycle\n",
    "\n",
    "Given a linked list, determine if it has a cycle in it. For this problem, it may be helpful for you to write some pseudocode on how to build a linked list with a cycle. A linked list with a cycle may look something like:"
   ]
  },
  {
   "cell_type": "markdown",
   "metadata": {
    "tags": []
   },
   "source": [
    "## Understand\n",
    "\n",
    "- can a Cycle contains only one node?\n",
    "- is there any time/space contraints?\n",
    "- if we have a null input, should we output False?\n",
    "\n",
    "## Examples\n",
    "\n",
    "```\n",
    "3-> 4 -> 5->6 ->3(loop back to first)\n",
    "3-> 4 -> 5->6 ->4 (loop back to second)\n",
    "3->4 -> 5\n",
    "3\n",
    "None\n",
    "\n",
    "```"
   ]
  },
  {
   "cell_type": "code",
   "execution_count": 7,
   "metadata": {
    "tags": []
   },
   "outputs": [
    {
     "output_type": "execute_result",
     "data": {
      "text/plain": "False"
     },
     "metadata": {},
     "execution_count": 7
    }
   ],
   "source": [
    "class Node:\n",
    "    def __init__(self, val):\n",
    "        self.val = val\n",
    "        self.next = None\n",
    "    def insert(self,n):\n",
    "        n.next = self\n",
    "        return n\n",
    "    def __repr__(self):\n",
    "        return f\"{self.val} -> {self.next}\"\n",
    "\n",
    "ll = Node(7).insert(Node(5))\n",
    "# ll = ll.insert(Node(8))\n",
    "# ll = ll.insert(Node(3))\n",
    "#ll.next.next.next.next = ll.next\n",
    "\n",
    "def hasCycle(head):\n",
    "    if not head or not head.next:\n",
    "        return False\n",
    "    fast, slow = head.next, head\n",
    "    while fast and fast.next:\n",
    "        if fast.val == slow.val:\n",
    "            return True\n",
    "        fast = fast.next.next \n",
    "        slow = slow.next\n",
    "    return False\n",
    "hasCycle(ll)"
   ]
  },
  {
   "cell_type": "markdown",
   "metadata": {},
   "source": [
    "# LeetCode 203 Problem 3 - Remove Instances\n",
    "\n",
    "Given a linked list and a value x, remove all instances of x from the linked list"
   ]
  },
  {
   "cell_type": "code",
   "execution_count": 13,
   "metadata": {
    "tags": []
   },
   "outputs": [
    {
     "output_type": "stream",
     "name": "stdout",
     "text": "8 -> 6 -> 7 -> 4 -> None\n6 -> 7 -> 4 -> None\n"
    }
   ],
   "source": [
    "## Understand\n",
    "\n",
    "\n",
    "\n",
    "def removeDuplicates(head: Node, val):\n",
    "    dummy_head = Node(-1)\n",
    "    dummy_head.next = head\n",
    "    prev, curr = dummy_head, head\n",
    "    while curr:\n",
    "        if (curr.val == val):\n",
    "            prev.next = curr.next\n",
    "        else:\n",
    "            prev = curr\n",
    "        curr = curr.next\n",
    "    return dummy_head.next\n",
    "\n",
    "ll = Node(4).insert(Node(7))\n",
    "ll = ll.insert(Node(6))\n",
    "ll = ll.insert(Node(8))\n",
    "\n",
    "print(ll)\n",
    "print(removeDuplicates(ll, 8))"
   ]
  },
  {
   "cell_type": "markdown",
   "metadata": {},
   "source": [
    "# Problem 4 (Challenge!) - Partition\n",
    "Given a linked list and a value x, partition it such that all nodes less than x come before nodes greater than or equal to x.\n"
   ]
  },
  {
   "cell_type": "markdown",
   "metadata": {},
   "source": [
    "## Understand\n",
    "\n",
    "- Is there any space\\time constrains? \n",
    "    - Should we partition in place \n",
    "    - should we remain the original sequence \n",
    "- if x is not in the ll, should we output the input?\n",
    "- Is each of the Node's value unique?\n",
    "\n",
    "\n",
    "## Examples:\n",
    "\n",
    "```\n",
    "Test case 1:\n",
    "input =  2-> 4-> 5-> 6->3->2->1->99  x = 5 \n",
    "output = \n",
    "1-> 2-> 3-> 2 -> 4 -> 5 -> 6 -> 99\n",
    "\n",
    "Test case 2: \n",
    "input = 2-> 4-> 5-> 6->3->2->1->99  x = 7\n",
    "output = \n",
    "2-> 4-> 5-> 6->3->2->1->99\n",
    "\n",
    "Test case3:\n",
    "input = 3-> None    x= 3\n",
    "output = 3\n",
    "```\n",
    "\n",
    "Test case 4:\n",
    "\n",
    "76543 x =5\n",
    "\n",
    "65437\n",
    "54376\n",
    "45376\n",
    "34576\n",
    "\n",
    "\n",
    "\n",
    "## Match\n",
    "- two pointer + dummy head\n",
    "\n",
    "-------"
   ]
  },
  {
   "cell_type": "code",
   "execution_count": 15,
   "metadata": {},
   "outputs": [],
   "source": [
    "#we need to have  pointers\n",
    "#prev, curr\n",
    "# loop through the ll\n",
    "    # if we find first that node >= x, we mark its previous node as pre\n",
    "    # for the rest, if the node is < x, we insert after prev, and change prev to latest inserted node \n",
    "# return head node\n",
    "def partition(head: Node, x: int) -> Node:      \n",
    "    sentinel = Node(-1)\n",
    "    sentinel.next = head\n",
    "    prev = sentinel\n",
    "    curr = head\n",
    "    mark = sentinel\n",
    "    flag_first = False\n",
    "    while curr:\n",
    "        if not flag_first:\n",
    "            if curr.val >= x:\n",
    "                flag_first = True\n",
    "            else:\n",
    "                prev = curr\n",
    "                mark = curr\n",
    "                curr = curr.next\n",
    "        else:\n",
    "            if curr.val >=x:\n",
    "                prev = curr\n",
    "                curr = curr.next\n",
    "            else:\n",
    "                #insert small element after mark and replace mark pointer\n",
    "                #mark mark.next prev curr curr.next\n",
    "                prev.next = curr.next\n",
    "                temp = curr\n",
    "                curr = prev.next\n",
    "                \n",
    "                temp.next = mark.next\n",
    "                mark.next = temp\n",
    "                mark = temp\n",
    "    return sentinel.next\n",
    "\n",
    "\n",
    "def partition_2list(head: Node, x: int) -> Node:      \n",
    "    before = before_head = Node(0)\n",
    "    after = after_head = Node(0)\n",
    "\n",
    "    while head:\n",
    "        if head.val < x:\n",
    "            before.next = head\n",
    "            before = before.next\n",
    "        else:\n",
    "            after.next = head\n",
    "            after = after.next\n",
    "        head = head.next\n",
    "    \n",
    "    after.next = None\n",
    "    before.next = after_head.next\n",
    "\n",
    "    return before_head.next\n"
   ]
  },
  {
   "cell_type": "code",
   "execution_count": 17,
   "metadata": {
    "tags": []
   },
   "outputs": [
    {
     "output_type": "stream",
     "name": "stdout",
     "text": "8 -> 6 -> 7 -> 4 -> None\n4 -> 8 -> 6 -> 7 -> None\n"
    }
   ],
   "source": [
    "ll = Node(4).insert(Node(7))\n",
    "ll = ll.insert(Node(6))\n",
    "ll = ll.insert(Node(8))\n",
    "\n",
    "print(ll)\n",
    "# print(partition(ll, 6))\n",
    "print(partition_2list(ll,6))"
   ]
  },
  {
   "cell_type": "markdown",
   "metadata": {},
   "source": [
    "# Session2\n",
    "\n",
    "## Match and Pseudocode/Plan Practice \n",
    "\n",
    "## Problem 1 - Remove Duplicates from Sorted List\n",
    "Given a sorted linked list, delete all duplicates such that each element appear only once.\n",
    "\n",
    "Examples:\n",
    "```\n",
    "Input: 1->1->2  \n",
    "Output: 1->2  \n",
    "\n",
    "Input: 1->1->2->3->3  \n",
    "Output: 1->2->3  \n",
    "```"
   ]
  },
  {
   "cell_type": "code",
   "execution_count": 28,
   "metadata": {},
   "outputs": [],
   "source": [
    "#Match two pointers\n",
    "\n",
    "#Plan\n",
    "# have two pointers, pre and curr, to track duplicates\n",
    "# loop through the list:\n",
    "    # if current equal to pre, \n",
    "        # delete current\n",
    "        # recover list order\n",
    "        # curr = pre.next\n",
    "    # else\n",
    "        #curr = curr.next\n",
    "        #pre = curr\n",
    "\n",
    "def removeDuplicates(head: Node) -> Node:\n",
    "    sentinel = Node(0)\n",
    "    sentinel.next = head\n",
    "    pre = sentinel\n",
    "    curr = head\n",
    "    while curr:\n",
    "        if curr.val == pre.val:\n",
    "            # pre curr curr.next\n",
    "            pre.next = curr.next\n",
    "            curr.next = None\n",
    "            curr = pre.next\n",
    "        else:\n",
    "            pre = curr\n",
    "            curr = curr.next\n",
    "    return sentinel.next        "
   ]
  },
  {
   "cell_type": "code",
   "execution_count": 34,
   "metadata": {
    "tags": []
   },
   "outputs": [
    {
     "output_type": "stream",
     "name": "stdout",
     "text": "10 -> None\n10 -> None\n"
    }
   ],
   "source": [
    "ll = Node(10)\n",
    "#ll = ll.insert(Node(9))\n",
    "# ll = ll.insert(Node(8))\n",
    "# ll = ll.insert(Node(8))\n",
    "# ll = ll.insert(Node(7))\n",
    "# ll = ll.insert(Node(3))\n",
    "# ll = ll.insert(Node(2))\n",
    "# ll = ll.insert(Node(2))\n",
    "print(ll)\n",
    "print(removeDuplicates(ll))"
   ]
  },
  {
   "cell_type": "markdown",
   "metadata": {},
   "source": [
    "# Problem 3 - Merge Two Sorted Lists\n",
    "Merge two sorted linked lists.\n",
    "\n",
    "Example:\n",
    "\n",
    "Input: 1->2->4, 1->3->4  \n",
    "Output: 1->1->2->3->4->4"
   ]
  },
  {
   "cell_type": "markdown",
   "metadata": {},
   "source": [
    "# Understand\n",
    "- the list are sorted already \n",
    "- Any time\\space constaints\n",
    "    - O(n) times O (1) space ?\n",
    "- Input list's node type, integer or char?\n",
    "- what if the input is empty?\n",
    "```\n",
    "Test cases 1\n",
    "input:  \"\" \"1->2->4\"\n",
    "output: \"1-> 2->4\"\n",
    "Test case 2 \n",
    "input: \"3->4->690\" \"d\"\n",
    "```\n",
    "\n",
    "# Match \n",
    "Two pointer? to compare list Node\n",
    "dummy head? to append the compara result"
   ]
  },
  {
   "cell_type": "code",
   "execution_count": 2,
   "metadata": {},
   "outputs": [],
   "source": [
    "class Node:\n",
    "    def __init__(self, val):\n",
    "        self.val = val\n",
    "        self.next = None\n",
    "    def insert(self,n):\n",
    "        n.next = self\n",
    "        return n\n",
    "    def __repr__(self):\n",
    "        return f\"{self.val} -> {self.next}\""
   ]
  },
  {
   "cell_type": "code",
   "execution_count": 13,
   "metadata": {},
   "outputs": [],
   "source": [
    "#Plan\n",
    "\n",
    "# use sentinel to save the comparision result\n",
    "# use two pointer to compare\n",
    "\n",
    "# create sentinel node\n",
    "# create two pointer points to heads of both array, one pointer track the tail of sentinil's list\n",
    "# loop through both array until one's node.next is empty\n",
    "    # if one node is smaller than the other\n",
    "        # move the node to the sentinel's list tail,\n",
    "        # pointer foward one\n",
    "# Check if both next is empty\n",
    "    # if not, process the rest of the list \n",
    "    # if one is empty the other isn't, shows the rest of the list is larger than the end of empty list\n",
    "        # append the rest of the list to the sentinel's list tail\n",
    "# return sentinel's next\n",
    "def mergeLL(ll_1: Node, ll_2: Node) -> Node:\n",
    "    sentinel = Node(-1)\n",
    "    ptr_1, ptr_2, tail_sentinel = ll_1, ll_2, sentinel\n",
    "    while ptr_1 and ptr_2:\n",
    "        if ptr_1.val < ptr_2.val:\n",
    "            temp = ptr_1.next\n",
    "            tail_sentinel.next = ptr_1\n",
    "            ptr_1.next = None\n",
    "            tail_sentinel = ptr_1\n",
    "            ptr_1 = temp\n",
    "        else:\n",
    "            temp = ptr_2.next\n",
    "            tail_sentinel.next = ptr_2\n",
    "            ptr_2.next = None\n",
    "            tail_sentinel = ptr_2\n",
    "            ptr_2 = temp\n",
    "    if ptr_1:\n",
    "        tail_sentinel.next = ptr_1\n",
    "    elif ptr_2:\n",
    "        tail_sentinel.next = ptr_2\n",
    "    return sentinel.next\n",
    "# Review\n",
    "    # No error found\n",
    "    # test case 1:\n",
    "#       Input: 1->2->4, 1->3->4  \n",
    "#       Output: sentinel->1->1->2->3->4->4\n",
    "    #Failed to check the code on line \"if ptr_1.val < ptr_2.val:\", did not add .val after node\n",
    "\n",
    "\n",
    "def mergeLL_rec(ll_1: Node, ll_2: Node) -> Node:\n",
    "    if not ll_1:\n",
    "        return ll_2\n",
    "    if not ll_2:\n",
    "        return ll_1\n",
    "    \n",
    "    if ll_1.val < ll_2.val:\n",
    "        ll_1.next = mergeLL_rec(ll_1.next,ll_2)\n",
    "        return ll_1\n",
    "    else:\n",
    "        ll_2.next = mergeLL_rec(ll_2.next,ll_1)\n",
    "        return ll_2"
   ]
  },
  {
   "cell_type": "code",
   "execution_count": 15,
   "metadata": {
    "tags": []
   },
   "outputs": [
    {
     "output_type": "stream",
     "name": "stdout",
     "text": "1 -> 2 -> 4 -> None\n1 -> 3 -> 14 -> None\n1 -> 1 -> 2 -> 3 -> 4 -> 14 -> None\n"
    }
   ],
   "source": [
    "ll_1 = Node(4).insert(Node(2))\n",
    "ll_1 = ll_1.insert(Node(1))\n",
    "\n",
    "ll_2 = Node(14).insert(Node(3))\n",
    "ll_2 = ll_2.insert(Node(1))\n",
    "\n",
    "print(ll_1)\n",
    "print(ll_2)\n",
    "# print(mergeLL(ll_1, ll_2))\n",
    "print(mergeLL_rec(ll_1, ll_2))"
   ]
  },
  {
   "cell_type": "markdown",
   "metadata": {},
   "source": [
    "# Problem 4 (Challenge!) - Remove Duplicates II\n",
    "Given a linked list, delete all nodes that have duplicate numbers, leaving only distinct numbers from the original list. Can you do it without taking up extra memory?\n",
    "\n",
    "Examples:\n",
    "\n",
    "Input: 1->2->3->3->4->4->5  \n",
    "Output: 1->2->5  \n",
    "\n",
    "Input: 1->1->1->2->3  \n",
    "Output: 2->3\n",
    "\n",
    "Input: 5->3->5->3->1->5  \n",
    "Output: 1  \n",
    "\n",
    "Input: 5->6->3->5  \n",
    "Output: 6->3 or 3->6\n",
    "\n"
   ]
  },
  {
   "cell_type": "code",
   "execution_count": 42,
   "metadata": {},
   "outputs": [],
   "source": [
    "## Understand\n",
    "\n",
    "# - list is not sorted\n",
    "# - not allowed to take extra memory\n",
    "# - any time constaints?\n",
    "# - None input?\n",
    "\n",
    "## Match\n",
    "# n - pass?\n",
    "    # O(n^2)\n",
    "# two pointer?\n",
    "# Sentinel? \n",
    "\n",
    "## Plan\n",
    "\n",
    "# First sort the linked list -> mergersort: O(nlogn)\n",
    "# Second remove duplicated\n",
    "\n",
    "def findMiddle(head: Node):\n",
    "    if not (head and head.next):\n",
    "        return head\n",
    "    #use fast slow pointer\n",
    "    fast, slow = head.next, head\n",
    "    while fast and fast.next:\n",
    "        fast = fast.next.next\n",
    "        slow = slow.next\n",
    "    return slow\n",
    "\n",
    "\n",
    "def mergesort(head: Node)-> Node:\n",
    "    if not (head and head.next):\n",
    "        return head\n",
    "    middle = findMiddle(head)\n",
    "    left, right = head, middle.next\n",
    "    middle.next = None\n",
    "    return mergeLL_rec(mergesort(head), mergesort(right))\n",
    "\n",
    "def removeDuplicates_all(head: Node)-> Node:\n",
    "    #use Dummy-head\n",
    "    #use sliding window to delelet nodes\n",
    "    if not (head and head.next):\n",
    "        return head\n",
    "    sentinel = Node(-1)\n",
    "    sentinel.next = head\n",
    "    curr, prev = head, sentinel\n",
    "    while curr and curr.next:\n",
    "        if curr.val == curr.next.val:\n",
    "            while curr.val == curr.next.val:\n",
    "                curr = curr.next\n",
    "            prev.next = curr.next\n",
    "        else:\n",
    "            prev = curr\n",
    "        curr = curr.next\n",
    "    return sentinel.next\n",
    "\n",
    "def removeDupUnsortedLL(head: Node) -> Node:\n",
    "    return removeDuplicates_all(mergesort(head))\n",
    "        \n"
   ]
  },
  {
   "cell_type": "code",
   "execution_count": 45,
   "metadata": {
    "tags": []
   },
   "outputs": [
    {
     "output_type": "stream",
     "name": "stdout",
     "text": "854 -> 413 -> 3 -> 5 -> 4 -> 34 -> 2 -> 3 -> 12 -> None\n2 -> 4 -> 5 -> 12 -> 34 -> 413 -> 854 -> None\n"
    }
   ],
   "source": [
    "l = Node(12)\n",
    "l = l.insert(Node(3))\n",
    "l = l.insert(Node(2))\n",
    "l = l.insert(Node(34))\n",
    "l = l.insert(Node(4))\n",
    "l = l.insert(Node(5))\n",
    "l = l.insert(Node(3))\n",
    "l = l.insert(Node(413))\n",
    "l = l.insert(Node(854))\n",
    "\n",
    "print(l)\n",
    "print(removeDupUnsortedLL(l))\n",
    "# print(mergeLL(ll_1, ll_2))\n",
    "# print(mergeLL_rec(ll_1, ll_2))"
   ]
  },
  {
   "cell_type": "markdown",
   "metadata": {},
   "source": [
    "## Review\n",
    "\n",
    "- T: O(nlog(n))\n",
    "- S: O(1)\n",
    "\n",
    "## Evalutation\n",
    "\n",
    "- mergesort a linked list also takes O(nlogn)\n",
    "    - find middle O(n)\n",
    "    - mergesort left; mergesort right 2T(n/2)\n",
    "    - merge(left, right)   O(n)\n",
    "\n",
    "- T(n) = 2*T(n/2) + 2*O(n) = O(nlogn)\n",
    "\n",
    "\n"
   ]
  },
  {
   "cell_type": "markdown",
   "metadata": {},
   "source": [
    "# Week3 Practices:\n",
    "## LeetCode 142. Linked List Cycle II\n",
    "Given a linked list, return the node where the cycle begins. If there is no cycle, return null.\n",
    "\n",
    "To represent a cycle in the given linked list, we use an integer pos which represents the position (0-indexed) in the linked list where tail connects to. If pos is -1, then there is no cycle in the linked list.\n",
    "\n",
    "Note: Do not modify the linked list.\n",
    "\n",
    "\n",
    "\n",
    "来源：力扣（LeetCode）\n",
    "链接：https://leetcode-cn.com/problems/linked-list-cycle-ii\n",
    "著作权归领扣网络所有。商业转载请联系官方授权，非商业转载请注明出处。"
   ]
  },
  {
   "cell_type": "markdown",
   "metadata": {},
   "source": [
    "## Understand\n",
    "\n",
    "- the question asks for an output of the node where cycle beginss\n",
    "- if not cycle found, return null\n",
    "- input = None, output shoudl = None\n",
    "- is there any time space constaints? \n",
    "\n",
    "Test case 1:\n",
    "3->2->0->-4->2(cycle)\n",
    "return 2\n",
    "\n",
    "Test case 2: \n",
    "1->2->1(cycle)\n",
    "return 1\n",
    "\n",
    "Test case 3:\n",
    "1\n",
    "return None\n",
    "\n",
    "## Match:\n",
    "multipass + fast and slow ptr"
   ]
  },
  {
   "cell_type": "code",
   "execution_count": 58,
   "metadata": {},
   "outputs": [],
   "source": [
    "# example:\n",
    "# 3->2->0->-4->2(cycle)\n",
    "\n",
    "# fast = 3 f_c = 0 slow = 3 s_c = 0\n",
    "# fast = 0 f_c = 2 slow = 2 s_c = 1\n",
    "# fast = 2 f_c = 4 slow = 0 s_c = 2\n",
    "# fast = -4 f_c = 6 slow = -4 s_c = 3\n",
    "# fast = 3 slow = -4\n",
    "# fast = 2 slow = 2\n",
    "\n",
    "# 6 - 3 = 3 \n",
    "\n",
    "#Plan\n",
    "#use ptr with counter, to count the length of it pass\n",
    "# fast - slow = one cycle \n",
    "# begin points = slow_length \n",
    "\n",
    "# - slow = a + b\n",
    "# - fast = 2*(a+b) = a + b + cycle\n",
    "#     - a+b = cycle \n",
    "#     - slow passed b in the cycle \n",
    "# we create a new ptr from start, and continue walk through, until they meet, the point is where they meet \n",
    "def detectCycleNode(head: Node) -> Node:\n",
    "    if not head or not head.next:\n",
    "        return None\n",
    "    fast, slow = head, head\n",
    "    while fast and fast.next:\n",
    "        fast = fast.next.next\n",
    "        slow = slow.next\n",
    "        if fast == slow:\n",
    "            break\n",
    "    \n",
    "    if fast and fast.next:\n",
    "        fast = head\n",
    "        while fast!=slow:\n",
    "            slow = slow.next\n",
    "            fast = fast.next\n",
    "        return fast\n",
    "    else:\n",
    "        return None\n"
   ]
  },
  {
   "cell_type": "code",
   "execution_count": 62,
   "metadata": {
    "tags": []
   },
   "outputs": [
    {
     "output_type": "stream",
     "name": "stdout",
     "text": "9 -> 5 -> 2 -> 7 -> None\n"
    }
   ],
   "source": [
    "ll = Node(7).insert(Node(2))\n",
    "ll = ll.insert(Node(5))\n",
    "ll = ll.insert(Node(9))\n",
    "print(ll)"
   ]
  },
  {
   "cell_type": "code",
   "execution_count": 60,
   "metadata": {
    "tags": []
   },
   "outputs": [
    {
     "output_type": "stream",
     "name": "stdout",
     "text": "0\n"
    }
   ],
   "source": [
    "ll.next.next.next = ll.next.next\n",
    "print(detectCycleNode(ll))"
   ]
  },
  {
   "cell_type": "markdown",
   "metadata": {},
   "source": [
    "## Review\n",
    "\n",
    "Used Floyd Algo to find the cycle start \n",
    "2 pointer to find cycle\n",
    "slow pointer 1 steps walk, new pointer 1 steps walk, until meet, meet point is the cycle start\n",
    "\n",
    "- T O(n)\n",
    "- S O(1)"
   ]
  },
  {
   "cell_type": "markdown",
   "metadata": {},
   "source": [
    "# LeetCode 24. Swap Nodes in Pairs\n",
    "Given a linked list, swap every two adjacent nodes and return its head.\n",
    "\n",
    "You may not modify the values in the list's nodes, only nodes itself may be changed.\n",
    "\n",
    " \n",
    "\n",
    "Example:\n",
    "\n",
    "Given 1->2->3->4, you should return the list as 2->1->4->3.\n",
    "\n",
    "来源：力扣（LeetCode）\n",
    "链接：https://leetcode-cn.com/problems/swap-nodes-in-pairs\n",
    "著作权归领扣网络所有。商业转载请联系官方授权，非商业转载请注明出处。"
   ]
  },
  {
   "cell_type": "code",
   "execution_count": null,
   "metadata": {},
   "outputs": [],
   "source": [
    "#Understand\n",
    "\n",
    "- what if there are odd numbers of node?\n",
    "    - only swap pairs, left the singles \n",
    "- time\\space constaints\n",
    "\n",
    "1->2->3->4   2->1->4->3\n",
    "1->2->3     2->1->3\n",
    "\n",
    "# Match\n",
    "multi pointers "
   ]
  },
  {
   "cell_type": "code",
   "execution_count": 8,
   "metadata": {},
   "outputs": [],
   "source": [
    "class Node:\n",
    "    def __init__(self, val):\n",
    "        self.val = val\n",
    "        self.next = None\n",
    "    def insert(self,n):\n",
    "        n.next = self\n",
    "        return n\n",
    "    def __repr__(self):\n",
    "        return f\"{self.val} -> {self.next}\"\n",
    "def swapPaires(head: Node)-> Node:\n",
    "    # curr, curr.next, curr.next.next?\n",
    "    sentinel = Node(-1)\n",
    "    sentinel.next = head\n",
    "    curr = head\n",
    "    prev = sentinel \n",
    "    while curr and curr.next:\n",
    "        temp = curr.next.next\n",
    "        prev.next = curr.next\n",
    "        curr.next.next = curr\n",
    "        curr.next = temp\n",
    "        prev = curr\n",
    "        curr = curr.next\n",
    "    return sentinel.next\n"
   ]
  },
  {
   "cell_type": "code",
   "execution_count": 13,
   "metadata": {
    "tags": []
   },
   "outputs": [
    {
     "output_type": "stream",
     "name": "stdout",
     "text": "2 -> 45 -> 4 -> 3 -> 12 -> None\n45 -> 2 -> 3 -> 4 -> 12 -> None\n"
    }
   ],
   "source": [
    "\n",
    "l = Node(12)\n",
    "l = l.insert(Node(3))\n",
    "l = l.insert(Node(4))\n",
    "l = l.insert(Node(45))\n",
    "l = l.insert(Node(2))\n",
    "\n",
    "print(l)\n",
    "print(swapPaires(l))"
   ]
  },
  {
   "cell_type": "code",
   "execution_count": null,
   "metadata": {},
   "outputs": [],
   "source": []
  }
 ]
}