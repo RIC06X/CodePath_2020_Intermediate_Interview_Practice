{
 "metadata": {
  "language_info": {
   "codemirror_mode": {
    "name": "ipython",
    "version": 3
   },
   "file_extension": ".py",
   "mimetype": "text/x-python",
   "name": "python",
   "nbconvert_exporter": "python",
   "pygments_lexer": "ipython3",
   "version": 3
  },
  "orig_nbformat": 2,
  "kernelspec": {
   "name": "python_defaultSpec_1596447331356",
   "display_name": "Python 3.7.3 64-bit"
  }
 },
 "nbformat": 4,
 "nbformat_minor": 2,
 "cells": [
  {
   "cell_type": "markdown",
   "metadata": {},
   "source": [
    "# Session 1\n",
    "\n",
    "## Hash Table Common Questions\n",
    "\n",
    "- Find duplicates\n",
    "- Find subsequent\n",
    "- Sum\n",
    "- LRU cache implementation"
   ]
  },
  {
   "cell_type": "markdown",
   "metadata": {},
   "source": [
    "# LeetCode 205"
   ]
  },
  {
   "cell_type": "code",
   "execution_count": 28,
   "metadata": {},
   "outputs": [],
   "source": [
    "#Loop through s and t\n",
    "    # if s[i] not in the map\n",
    "        # if t[i] in the set -> duplicate maping\n",
    "            # return false\n",
    "        # else:\n",
    "            #add to map?  -> s[i] not in the map, and t[i] not in the set \n",
    "    # else:\n",
    "        # s[i] map to different value\n",
    "            #return false\n",
    "#return true\n",
    "def isIsomorphic(s: str, t: str) -> bool:\n",
    "    char_dict = dict()\n",
    "    set_t = set()\n",
    "    for i in range(len(s)):\n",
    "        if s[i] not in char_dict.keys():\n",
    "            if t[i] in set_t:\n",
    "                return False\n",
    "            else:\n",
    "                char_dict[s[i]] = t[i]\n",
    "                set_t.add(t[i])\n",
    "        else:\n",
    "            if char_dict[s[i]] != t[i]:\n",
    "                return False\n",
    "    return True\n",
    "\n"
   ]
  },
  {
   "cell_type": "code",
   "execution_count": 31,
   "metadata": {
    "tags": []
   },
   "outputs": [
    {
     "output_type": "stream",
     "name": "stdout",
     "text": "False\nFalse\nTrue\n"
    }
   ],
   "source": [
    "print(isIsomorphic('ed', 'ss'))\n",
    "print(isIsomorphic('aa','df'))\n",
    "print(isIsomorphic('abc', 'def'))"
   ]
  },
  {
   "cell_type": "markdown",
   "metadata": {},
   "source": [
    " # Find a pair with given sum Amazon OA 2019\n",
    " \n",
    " Given an array of size n and a number x, determine the first two elements in the array, if any, whose sum is exactly x."
   ]
  },
  {
   "cell_type": "markdown",
   "metadata": {},
   "source": [
    "## Understand\n",
    "\n",
    "arry(n), x\n",
    "a + b = x \n",
    "\n",
    "### Question\n",
    "Should two element have to be close to each other? I mean a followed by b , rather than there are elements between a and b\n",
    "No\n",
    "Can two element in the array have same value?\n",
    "Yes\n",
    "Can we assume the array contains elements more than 2?\n",
    "Yes\n",
    "\n",
    "test cases:\n",
    "arr = [1,45,2,35,323,57,123]  x = 47\n",
    "\n",
    "## Match \n",
    "Use hashtable \n",
    "\n",
    "two sum technique\n",
    "\n",
    "## Plan\n",
    "\n",
    "- create a hashtable\n",
    "- in the first iteration:\n",
    "    store the key as (x - arr[i]), value as the number\n",
    "- in the second iteration:\n",
    "    check if arr[i] in the hashtable\n",
    "        - if true, return True\n",
    "- return false\n",
    "\n"
   ]
  },
  {
   "cell_type": "code",
   "execution_count": 36,
   "metadata": {},
   "outputs": [],
   "source": [
    "def findPair(arr, x):\n",
    "    hashtable = dict()\n",
    "    for i in range(len(arr)):\n",
    "        hashtable[x-arr[i]] = arr[i]\n",
    "    for i in range(len(arr)):\n",
    "        if arr[i] in hashtable:\n",
    "            return (arr[i], hashtable[arr[i]])"
   ]
  },
  {
   "cell_type": "code",
   "execution_count": 39,
   "metadata": {},
   "outputs": [
    {
     "output_type": "execute_result",
     "data": {
      "text/plain": "(1, 2)"
     },
     "metadata": {},
     "execution_count": 39
    }
   ],
   "source": [
    "# Review\n",
    "findPair( [1,45,2,35,323,57,123], 3)"
   ]
  },
  {
   "cell_type": "markdown",
   "metadata": {},
   "source": [
    "## Evaluation\n",
    "\n",
    "Time C : O(n)\n",
    "\n",
    "Space C : O(n)"
   ]
  },
  {
   "cell_type": "markdown",
   "metadata": {},
   "source": [
    "#  Kth frequent number\n",
    "Find the element that appears k number of times in an array.\n",
    "\n",
    "```\n",
    "Input: [8, 7, 9, 6, 7, 5, 1], k = 2\n",
    "Output: 7\n",
    "```"
   ]
  },
  {
   "cell_type": "markdown",
   "metadata": {},
   "source": [
    "## Understand \n",
    "\n",
    "### Question\n",
    "\n",
    "- Is it possible that more than one element appears k times, for example, a appears 10 times and b also appears 10 times, should I output them all?\n",
    "\n",
    "- Can I assume the input in not empty?\n",
    "\n",
    "- Can I asssume the arr alsways contains an element that appears k time?\n",
    "\n",
    "## Match\n",
    "- Hashmap (value, count)\n",
    "- twopass\n"
   ]
  },
  {
   "cell_type": "code",
   "execution_count": 45,
   "metadata": {},
   "outputs": [],
   "source": [
    "# Plan \n",
    "# Create an empty hashmap\n",
    "# create an output arr\n",
    "# loop through the array\n",
    "    # check if in the hashmap\n",
    "        # true, count++\n",
    "        # false, add to map, count = 1\n",
    "# loop through the hashmap\n",
    "    # check if one's mapping count = k,\n",
    "        #true, save to output arr\n",
    "# return output arr\n",
    "\n",
    "def kthFreqN(arr, k):\n",
    "    hashmap = dict()\n",
    "    out = []\n",
    "    for i in range(len(arr)):\n",
    "        if arr[i] in hashmap:\n",
    "            hashmap[arr[i]] += 1\n",
    "        else:\n",
    "            hashmap[arr[i]] = 1\n",
    "    for key in hashmap.keys():\n",
    "        if hashmap[key] == k:\n",
    "            out.append(key)\n",
    "    return out"
   ]
  },
  {
   "cell_type": "code",
   "execution_count": 50,
   "metadata": {
    "tags": []
   },
   "outputs": [
    {
     "output_type": "stream",
     "name": "stdout",
     "text": "[56]\n"
    }
   ],
   "source": [
    "#Review\n",
    "print(kthFreqN([1,4,4,6,56,78,4,56,7,5], 2))"
   ]
  },
  {
   "cell_type": "code",
   "execution_count": null,
   "metadata": {},
   "outputs": [],
   "source": [
    "## Evalutation\n",
    "\n",
    "Space O(n)\n",
    "Time O(n)"
   ]
  },
  {
   "cell_type": "markdown",
   "metadata": {},
   "source": [
    "# Longest Consecutive Subsequence\n",
    "\n",
    "Given an unsorted array of integers, we want to find the length of the longest subsequence such that elements in the subsequence are consecutive integers. The consecutive numbers can be in any order.\n",
    "\n",
    "For example:\n",
    "\n",
    "```\n",
    "Input: [1, 9, 3, 10, 4, 20 , 2]\n",
    "Output: 4\n",
    "[1, 3, 4, 2] is the longest subsequence of consecutive elements.\n",
    "```"
   ]
  },
  {
   "cell_type": "markdown",
   "metadata": {},
   "source": [
    "## Understand\n",
    "\n",
    "- unsorted arry of integers\n",
    "- !The consecutive numbers can be in any order\n",
    "\n",
    "Empty arr -> null\n",
    "what if there are duplicated element in the array, should output them also?\n",
    "```\n",
    "[1,3,34,5,6,3,7,6,54,7,3,6,4]\n",
    "\n",
    "[1,3,3,3,4,5,6,6,6,7,7,34,54]\n",
    "\n",
    "[3,4,5,6]\n",
    "````\n",
    "## Match\n",
    "Hashmap\n",
    "(arr[i] -1: arr[i])\n",
    "\n",
    "## Plan\n",
    "\n",
    "Bruteforce \n",
    "- sort the array\n",
    "- inni max and count = 0\n",
    "- loop through the array\n",
    "    - if the i.next = i + 1\n",
    "        count ++\n",
    "    - else  \n",
    "        count = 0\n",
    "    - if count> max \n",
    "            max = count\n",
    "- return max\n",
    "\n",
    "HashMap and set\n",
    "- create a hashset\n",
    "- create a count = 0, max = 0\n",
    "- loop through array\n",
    "    - add element ot hashset\n",
    "- loop through hashs\n",
    "    - if hashset\\[arr[i]-1\\] not exist start point of the sequence -> start point the array !!正反思考！\n",
    "        - check all the element in the set that are 1 more than current one, until can't found one, count the max\n",
    "        - ans = (max, count)\n",
    "    - count = 0\n",
    "- return ans\n"
   ]
  },
  {
   "cell_type": "code",
   "execution_count": 57,
   "metadata": {},
   "outputs": [],
   "source": [
    "def longConSeq(nums) -> int:\n",
    "    hashset = set()\n",
    "    max_result = 0\n",
    "    for item in nums:\n",
    "        hashset.add(item)\n",
    "    for item in nums:\n",
    "        if item - 1 not in hashset:\n",
    "            temp_item = item\n",
    "            count = 1\n",
    "            while item + 1 in hashset:\n",
    "                item = item + 1\n",
    "                count += 1\n",
    "            if count > max_result:\n",
    "                max_result = count\n",
    "    return max_result"
   ]
  },
  {
   "cell_type": "code",
   "execution_count": 58,
   "metadata": {
    "tags": []
   },
   "outputs": [
    {
     "output_type": "stream",
     "name": "stdout",
     "text": "4\n"
    }
   ],
   "source": [
    "print(longConSeq([1, 9, 3, 10, 4, 20 , 2]))"
   ]
  },
  {
   "cell_type": "code",
   "execution_count": null,
   "metadata": {},
   "outputs": [],
   "source": [
    "# Evaluation\n",
    "\n",
    "Space C: O(n)\n",
    "Time C: O(n)"
   ]
  }
 ]
}