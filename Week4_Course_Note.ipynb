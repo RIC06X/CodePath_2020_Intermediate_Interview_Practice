{
 "metadata": {
  "language_info": {
   "codemirror_mode": {
    "name": "ipython",
    "version": 3
   },
   "file_extension": ".py",
   "mimetype": "text/x-python",
   "name": "python",
   "nbconvert_exporter": "python",
   "pygments_lexer": "ipython3",
   "version": 3
  },
  "orig_nbformat": 2,
  "kernelspec": {
   "name": "python_defaultSpec_1596963480922",
   "display_name": "Python 3.8.4 64-bit"
  }
 },
 "nbformat": 4,
 "nbformat_minor": 2,
 "cells": [
  {
   "cell_type": "markdown",
   "metadata": {},
   "source": [
    "# Problem 1 - Add Two Numbers\n",
    "\n",
    "You are given two non-empty linked lists representing two non-negative integers. The digits are stored in reverse order and each of their nodes contain a single digit. Add the two numbers and return it as a linked list.\n",
    "\n",
    "You may assume the two numbers do not contain any leading zero, except the number 0 itself.\n",
    "\n",
    "Example:\n",
    "```\n",
    "Input: 2 -> 4 -> 3,  5 -> 6 -> 4\n",
    "Output: 7 -> 0 -> 8\n",
    "```\n",
    "Explanation: 342 + 465 = 807"
   ]
  },
  {
   "cell_type": "code",
   "execution_count": null,
   "metadata": {},
   "outputs": [],
   "source": [
    "## Understand\n",
    "\n",
    "- is there any space/ time constaints?\n",
    "\n",
    "## Match\n",
    "\n",
    "- need to consider carry \n",
    "\n",
    "## Plan\n",
    "- loop through  lists\n",
    "    - sum up each digits with carry, save carry if > 10, clear carry if have no carray\n",
    "- Append the rest of the list, and carry"
   ]
  },
  {
   "cell_type": "code",
   "execution_count": 3,
   "metadata": {},
   "outputs": [],
   "source": [
    "class ListNode:\n",
    "    def __init__(self, val):\n",
    "        self.val = val\n",
    "        self.next = None\n",
    "    def insert(self, n:ListNode):\n",
    "        n.next = self\n",
    "        return n \n",
    "    def __repr__(self):\n",
    "        return f\"{self.val} -> {self.next}\"\n",
    "        \n",
    "def addTwoNumbers(l1: ListNode, l2:ListNode):\n",
    "    head = l1\n",
    "    carry = 0\n",
    "    while l1.next and l2.next:\n",
    "        temp = l1.val + l2.val + carry\n",
    "        if temp > 9:\n",
    "            carry = temp - 9\n",
    "            l1.val = 9\n",
    "        else:\n",
    "            l1.val = temp\n",
    "            carry = 0 \n",
    "        l1 = l1.next\n",
    "        l2 = l2.next\n",
    "    if l2.next and not l1.next:\n",
    "        temp = l1.val + l2.val + carry\n",
    "        if temp > 9:\n",
    "            carry = temp - 9\n",
    "            l1.val = 9\n",
    "        else:\n",
    "            l1.val = temp\n",
    "            carry = 0\n",
    "        l1.next = l2\n",
    "        while carry:\n",
    "            l1 = l1.next\n",
    "            temp = l1.val + carry\n",
    "            if temp > 9:\n",
    "                carry = temp - 9\n",
    "                l1.val = 9\n",
    "            else:\n",
    "                l1.val = temp\n",
    "                carry = 0\n",
    "    if l1.next and not l2.next:\n",
    "        while carry:\n",
    "            l1 = l1.next\n",
    "            temp = l1.val + carry\n",
    "            if temp > 9:\n",
    "                carry = temp - 9\n",
    "                l1.val = 9\n",
    "            else:\n",
    "                l1.val = temp\n",
    "                carry = 0\n",
    "    return head\n",
    "    \n"
   ]
  },
  {
   "cell_type": "code",
   "execution_count": 4,
   "metadata": {
    "tags": []
   },
   "outputs": [
    {
     "output_type": "stream",
     "name": "stdout",
     "text": "1 -> None\n"
    }
   ],
   "source": [
    "l1 = ListNode(1)\n",
    "l1.insert(ListNode(2))\n",
    "print(l1)\n"
   ]
  },
  {
   "cell_type": "markdown",
   "metadata": {},
   "source": [
    "# Problem 2 - Remove Nth Node from End of List\n",
    "Given a linked list, remove the n-th node from the end of list and return its head.\n",
    "\n",
    "Example:\n",
    "\n",
    "Input: 1->2->3->4->5, n = 2\n",
    "Output: 1->2->3->5\n",
    "\n",
    "Explanation: We remove the second node from the end, the node with value 4\n"
   ]
  },
  {
   "cell_type": "markdown",
   "metadata": {},
   "source": [
    "# Problem 3 - Merge Two Sorted Lists\n",
    "Merge two sorted linked lists and return it as a new list. The new list should be made by splicing together the nodes of the first two lists.\n",
    "\n",
    "Example:\n",
    "\n",
    "Input: 1->2->4, 1->3->4\n",
    "Output: 1->1->2->3->4->4\n"
   ]
  },
  {
   "cell_type": "markdown",
   "metadata": {},
   "source": [
    "# Problem 4 (Challenge!) - Remove Duplicates\n",
    "Given a linked list, delete all nodes that have duplicate numbers, leaving only distinct numbers from the original list. Can you do it without taking up extra memory?\n",
    "\n",
    "Examples:\n",
    "\n",
    "Input: 1->2->3->3->4->4->5\n",
    "Output: 1->2->5\n",
    "\n",
    "Input: 1->1->1->2->3\n",
    "Output: 2->3"
   ]
  }
 ]
}